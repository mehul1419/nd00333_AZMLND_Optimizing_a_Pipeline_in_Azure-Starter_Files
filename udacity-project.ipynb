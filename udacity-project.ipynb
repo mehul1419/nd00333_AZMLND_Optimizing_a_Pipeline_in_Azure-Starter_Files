{
  "cells": [
    {
      "cell_type": "code",
      "source": [
        "from azureml.core import Workspace, Experiment\n",
        "\n",
        "ws = Workspace.from_config()\n",
        "exp = Experiment(workspace=ws, name=\"udacity-project\")\n",
        "\n",
        "print('Workspace name: ' + ws.name, \n",
        "      'Azure region: ' + ws.location, \n",
        "      'Subscription id: ' + ws.subscription_id, \n",
        "      'Resource group: ' + ws.resource_group, sep = '\\n')\n",
        "\n",
        "run = exp.start_logging()"
      ],
      "outputs": [
        {
          "output_type": "stream",
          "name": "stdout",
          "text": "Workspace name: quick-starts-ws-259055\nAzure region: eastus2\nSubscription id: 510b94ba-e453-4417-988b-fbdc37b55ca7\nResource group: aml-quickstarts-259055\n"
        }
      ],
      "execution_count": 10,
      "metadata": {
        "gather": {
          "logged": 1715599991197
        }
      }
    },
    {
      "cell_type": "code",
      "source": [
        "from azureml.core.compute import ComputeTarget, AmlCompute\n",
        "\n",
        "cluster_name = \"ComputeCluster\"\n",
        "\n",
        "# Use vm_size = \"Standard_D2_V2\" in your provisioning configuration.\n",
        "# max_nodes should be no greater than 4.\n",
        "\n",
        "compute_config = AmlCompute.provisioning_configuration(\n",
        "    vm_size = \"STANDARD_D2_V2\",\n",
        "    min_nodes=0,\n",
        "    max_nodes=4,\n",
        ")\n",
        "\n",
        "try:\n",
        "    cluster_handle = ComputeTarget(workspace=ws, name=cluster_name)\n",
        "    print(\"Cluster already exist. Using it.\")\n",
        "except:\n",
        "    print(\"Could not find such cluster. Creating one.\")\n",
        "    cluster_handle = ComputeTarget.create(workspace=ws, name=cluster_name, provisioning_configuration=compute_config)\n",
        "cluster_handle.wait_for_completion()"
      ],
      "outputs": [
        {
          "output_type": "stream",
          "name": "stdout",
          "text": "Cluster already exist. Using it.\n"
        }
      ],
      "execution_count": 11,
      "metadata": {
        "gather": {
          "logged": 1715599991480
        },
        "jupyter": {
          "outputs_hidden": false,
          "source_hidden": false
        },
        "nteract": {
          "transient": {
            "deleting": false
          }
        }
      }
    },
    {
      "cell_type": "code",
      "source": [
        "# pip install azureml-sdk[automl,notebooks,explain,train]"
      ],
      "outputs": [],
      "execution_count": 12,
      "metadata": {
        "gather": {
          "logged": 1715599991624
        },
        "jupyter": {
          "outputs_hidden": false,
          "source_hidden": false
        },
        "nteract": {
          "transient": {
            "deleting": false
          }
        }
      }
    },
    {
      "cell_type": "code",
      "source": [
        "from azureml.widgets import RunDetails\n",
        "from azureml.train.sklearn import SKLearn\n",
        "from azureml.train.hyperdrive.run import PrimaryMetricGoal\n",
        "from azureml.train.hyperdrive.policy import BanditPolicy\n",
        "from azureml.train.hyperdrive.sampling import RandomParameterSampling\n",
        "from azureml.train.hyperdrive.runconfig import HyperDriveConfig\n",
        "from azureml.train.hyperdrive.parameter_expressions import choice, uniform\n",
        "from azureml.core import Environment, ScriptRunConfig\n",
        "import os\n",
        "\n",
        "# Specify parameter sampler\n",
        "ps = RandomParameterSampling({'C':uniform(0.5,2.0),\n",
        "                             'max_iter': choice(50, 100, 150, 200)})\n",
        "# Specify a Policy\n",
        "policy = BanditPolicy(\n",
        "    slack_factor=0.1,\n",
        "    evaluation_interval=2,\n",
        ")\n",
        "\n",
        "if \"training\" not in os.listdir():\n",
        "    os.mkdir(\"./training\")\n",
        "\n",
        "# Setup environment for your training run\n",
        "sklearn_env = Environment.from_conda_specification(name='sklearn-env', file_path='conda_dependencies.yml')\n",
        "\n",
        "# Create a ScriptRunConfig Object to specify the configuration details of your training job\n",
        "src = ScriptRunConfig(\n",
        "    source_directory=\".\",\n",
        "    script=\"train.py\",\n",
        "    compute_target=cluster_handle,\n",
        "    environment=sklearn_env\n",
        ")\n",
        "\n",
        "# Create a HyperDriveConfig using the src object, hyperparameter sampler, and policy.\n",
        "hyperdrive_config = HyperDriveConfig(\n",
        "    run_config=src,\n",
        "    hyperparameter_sampling=ps,\n",
        "    policy=policy,\n",
        "    primary_metric_name=\"Accuracy\",\n",
        "    primary_metric_goal=PrimaryMetricGoal.MAXIMIZE,\n",
        "    max_concurrent_runs=4,\n",
        "    max_total_runs=20,\n",
        ")"
      ],
      "outputs": [],
      "execution_count": 13,
      "metadata": {
        "gather": {
          "logged": 1715599991762
        },
        "jupyter": {
          "outputs_hidden": false,
          "source_hidden": false
        },
        "nteract": {
          "transient": {
            "deleting": false
          }
        }
      }
    },
    {
      "cell_type": "code",
      "source": [
        "# Submit your hyperdrive run to the experiment and show run details with the widget.\n",
        "\n",
        "hdr = exp.submit(config=hyperdrive_config)\n",
        "hdr.wait_for_completion(show_output=True)"
      ],
      "outputs": [
        {
          "output_type": "stream",
          "name": "stdout",
          "text": "RunId: HD_7ed6cf39-ef4d-4de3-9457-a4817498402c\nWeb View: https://ml.azure.com/runs/HD_7ed6cf39-ef4d-4de3-9457-a4817498402c?wsid=/subscriptions/510b94ba-e453-4417-988b-fbdc37b55ca7/resourcegroups/aml-quickstarts-259055/workspaces/quick-starts-ws-259055&tid=660b3398-b80e-49d2-bc5b-ac1dc93b5254\n\nStreaming azureml-logs/hyperdrive.txt\n=====================================\n\n[2024-05-13T11:33:14.217504][GENERATOR][INFO]Trying to sample '4' jobs from the hyperparameter space\n[2024-05-13T11:33:14.6692127Z][SCHEDULER][INFO]Scheduling job, id='HD_7ed6cf39-ef4d-4de3-9457-a4817498402c_0' \n[2024-05-13T11:33:14.8254456Z][SCHEDULER][INFO]Scheduling job, id='HD_7ed6cf39-ef4d-4de3-9457-a4817498402c_1' \n[2024-05-13T11:33:14.9576076Z][SCHEDULER][INFO]Scheduling job, id='HD_7ed6cf39-ef4d-4de3-9457-a4817498402c_2' \n[2024-05-13T11:33:15.0672221Z][SCHEDULER][INFO]Scheduling job, id='HD_7ed6cf39-ef4d-4de3-9457-a4817498402c_3' \n[2024-05-13T11:33:15.035383][GENERATOR][INFO]Successfully sampled '4' jobs, they will soon be submitted to the execution target.\n[2024-05-13T11:33:15.2310918Z][SCHEDULER][INFO]Successfully scheduled a job. Id='HD_7ed6cf39-ef4d-4de3-9457-a4817498402c_1' \n[2024-05-13T11:33:15.2765379Z][SCHEDULER][INFO]Successfully scheduled a job. Id='HD_7ed6cf39-ef4d-4de3-9457-a4817498402c_2' \n[2024-05-13T11:33:15.3297223Z][SCHEDULER][INFO]Successfully scheduled a job. Id='HD_7ed6cf39-ef4d-4de3-9457-a4817498402c_0' \n[2024-05-13T11:33:15.3352451Z][SCHEDULER][INFO]Successfully scheduled a job. Id='HD_7ed6cf39-ef4d-4de3-9457-a4817498402c_3' \n[2024-05-13T11:34:44.152086][GENERATOR][INFO]Trying to sample '2' jobs from the hyperparameter space\n[2024-05-13T11:34:44.4306992Z][SCHEDULER][INFO]Scheduling job, id='HD_7ed6cf39-ef4d-4de3-9457-a4817498402c_4' \n[2024-05-13T11:34:44.506107][GENERATOR][INFO]Successfully sampled '2' jobs, they will soon be submitted to the execution target.\n[2024-05-13T11:34:44.5621857Z][SCHEDULER][INFO]Scheduling job, id='HD_7ed6cf39-ef4d-4de3-9457-a4817498402c_5' \n[2024-05-13T11:34:44.6846863Z][SCHEDULER][INFO]Successfully scheduled a job. Id='HD_7ed6cf39-ef4d-4de3-9457-a4817498402c_4' \n[2024-05-13T11:34:44.8986144Z][SCHEDULER][INFO]Successfully scheduled a job. Id='HD_7ed6cf39-ef4d-4de3-9457-a4817498402c_5' \n[2024-05-13T11:35:14.303988][GENERATOR][INFO]Trying to sample '2' jobs from the hyperparameter space\n[2024-05-13T11:35:14.6060828Z][SCHEDULER][INFO]Scheduling job, id='HD_7ed6cf39-ef4d-4de3-9457-a4817498402c_6' \n[2024-05-13T11:35:14.6932312Z][SCHEDULER][INFO]Scheduling job, id='HD_7ed6cf39-ef4d-4de3-9457-a4817498402c_7' \n[2024-05-13T11:35:14.654032][GENERATOR][INFO]Successfully sampled '2' jobs, they will soon be submitted to the execution target.\n[2024-05-13T11:35:14.8263001Z][SCHEDULER][INFO]Successfully scheduled a job. Id='HD_7ed6cf39-ef4d-4de3-9457-a4817498402c_6' \n[2024-05-13T11:35:14.9219837Z][SCHEDULER][INFO]Successfully scheduled a job. Id='HD_7ed6cf39-ef4d-4de3-9457-a4817498402c_7' \n[2024-05-13T11:36:14.149066][GENERATOR][INFO]Trying to sample '1' jobs from the hyperparameter space\n[2024-05-13T11:36:14.4916627Z][SCHEDULER][INFO]Scheduling job, id='HD_7ed6cf39-ef4d-4de3-9457-a4817498402c_8' \n[2024-05-13T11:36:14.458501][GENERATOR][INFO]Successfully sampled '1' jobs, they will soon be submitted to the execution target.\n[2024-05-13T11:36:14.6911303Z][SCHEDULER][INFO]Successfully scheduled a job. Id='HD_7ed6cf39-ef4d-4de3-9457-a4817498402c_8' \n[2024-05-13T11:36:44.148740][GENERATOR][INFO]Trying to sample '3' jobs from the hyperparameter space\n[2024-05-13T11:36:44.4644653Z][SCHEDULER][INFO]Scheduling job, id='HD_7ed6cf39-ef4d-4de3-9457-a4817498402c_9' \n[2024-05-13T11:36:44.5863904Z][SCHEDULER][INFO]Scheduling job, id='HD_7ed6cf39-ef4d-4de3-9457-a4817498402c_10' \n[2024-05-13T11:36:44.7126555Z][SCHEDULER][INFO]Successfully scheduled a job. Id='HD_7ed6cf39-ef4d-4de3-9457-a4817498402c_9' \n[2024-05-13T11:36:44.656497][GENERATOR][INFO]Successfully sampled '3' jobs, they will soon be submitted to the execution target.\n[2024-05-13T11:36:44.7969624Z][SCHEDULER][INFO]Successfully scheduled a job. Id='HD_7ed6cf39-ef4d-4de3-9457-a4817498402c_10' \n[2024-05-13T11:36:44.7873702Z][SCHEDULER][INFO]Scheduling job, id='HD_7ed6cf39-ef4d-4de3-9457-a4817498402c_11' \n[2024-05-13T11:36:45.0392257Z][SCHEDULER][INFO]Successfully scheduled a job. Id='HD_7ed6cf39-ef4d-4de3-9457-a4817498402c_11' \n"
        }
      ],
      "execution_count": 14,
      "metadata": {
        "gather": {
          "logged": 1715599629529
        }
      }
    },
    {
      "cell_type": "code",
      "source": [
        "best_run = hdr.get_best_run_by_primary_metric()\n",
        "best_run"
      ],
      "outputs": [],
      "execution_count": null,
      "metadata": {
        "gather": {
          "logged": 1715599629790
        },
        "jupyter": {
          "outputs_hidden": false,
          "source_hidden": false
        },
        "nteract": {
          "transient": {
            "deleting": false
          }
        }
      }
    },
    {
      "cell_type": "code",
      "source": [
        "best_run.get_file_names()"
      ],
      "outputs": [],
      "execution_count": null,
      "metadata": {
        "gather": {
          "logged": 1715599711900
        },
        "jupyter": {
          "outputs_hidden": false,
          "source_hidden": false
        },
        "nteract": {
          "transient": {
            "deleting": false
          }
        }
      }
    },
    {
      "cell_type": "code",
      "source": [
        "import joblib\n",
        "\n",
        "best_run.register_model(model_name=\"hyperdrive_opt_best_model\", model_path=os.path.join(\"outputs\", \"model.pkl\"))"
      ],
      "outputs": [],
      "execution_count": null,
      "metadata": {
        "gather": {
          "logged": 1715599853153
        },
        "jupyter": {
          "outputs_hidden": false,
          "source_hidden": false
        },
        "nteract": {
          "transient": {
            "deleting": false
          }
        }
      }
    },
    {
      "cell_type": "code",
      "source": [
        "from azureml.data.dataset_factory import TabularDatasetFactory\n",
        "\n",
        "# Create TabularDataset using TabularDatasetFactory\n",
        "\n",
        "URL = \"https://automlsamplenotebookdata.blob.core.windows.net/automl-sample-notebook-data/bankmarketing_train.csv\"\n",
        "ds = TabularDatasetFactory.from_delimited_files(path=URL)"
      ],
      "outputs": [],
      "execution_count": null,
      "metadata": {}
    },
    {
      "cell_type": "code",
      "source": [
        "from train import clean_data\n",
        "\n",
        "# Use the clean_data function to clean your data.\n",
        "x, y = clean_data(ds)"
      ],
      "outputs": [],
      "execution_count": null,
      "metadata": {
        "gather": {
          "logged": 1598275726969
        },
        "jupyter": {
          "outputs_hidden": false,
          "source_hidden": false
        },
        "nteract": {
          "transient": {
            "deleting": false
          }
        }
      }
    },
    {
      "cell_type": "code",
      "source": [
        "from azureml.train.automl import AutoMLConfig\n",
        "\n",
        "# Set parameters for AutoMLConfig\n",
        "# NOTE: DO NOT CHANGE THE experiment_timeout_minutes PARAMETER OR YOUR INSTANCE WILL TIME OUT.\n",
        "# If you wish to run the experiment longer, you will need to run this notebook in your own\n",
        "# Azure tenant, which will incur personal costs.\n",
        "automl_config = AutoMLConfig(\n",
        "    experiment_timeout_minutes=30,\n",
        "    task='classification',\n",
        "    primary_metric='accuracy',\n",
        "    training_data=ds,\n",
        "    label_column_name='y',\n",
        "    n_cross_validations=5\n",
        "    compute_target=cluster_handle,\n",
        "    enable_onnx_compatible_models=True)"
      ],
      "outputs": [],
      "execution_count": null,
      "metadata": {
        "gather": {
          "logged": 1598275665403
        },
        "jupyter": {
          "outputs_hidden": false,
          "source_hidden": false
        },
        "nteract": {
          "transient": {
            "deleting": false
          }
        }
      }
    },
    {
      "cell_type": "code",
      "source": [
        "# Submit your automl run\n",
        "\n",
        "run = exp.submit(automl_config)\n",
        "RunDetails(run).show()\n",
        "run.wait_for_completion(show_output=True)"
      ],
      "outputs": [],
      "execution_count": null,
      "metadata": {
        "jupyter": {
          "outputs_hidden": false,
          "source_hidden": false
        },
        "nteract": {
          "transient": {
            "deleting": false
          }
        }
      }
    },
    {
      "cell_type": "code",
      "source": [
        "# Retrieve and save your best automl model.\n",
        "\n",
        "best_run, fitted_model = run.get_output()\n",
        "print(best_run)\n",
        "\n",
        "\n",
        "import joblib\n",
        "\n",
        "os.mkdir(\"model_output\")\n",
        "os.chdir(\"model_outputs\")\n",
        "joblib.dump(fitted_model,\"AUTOML.pkl\")"
      ],
      "outputs": [],
      "execution_count": null,
      "metadata": {}
    },
    {
      "cell_type": "code",
      "source": [
        "cluster_handle.delete()"
      ],
      "outputs": [],
      "execution_count": null,
      "metadata": {
        "jupyter": {
          "outputs_hidden": false,
          "source_hidden": false
        },
        "nteract": {
          "transient": {
            "deleting": false
          }
        }
      }
    }
  ],
  "metadata": {
    "kernel_info": {
      "name": "python38-azureml"
    },
    "kernelspec": {
      "name": "python38-azureml",
      "language": "python",
      "display_name": "Python 3.8 - AzureML"
    },
    "language_info": {
      "name": "python",
      "version": "3.8.5",
      "mimetype": "text/x-python",
      "codemirror_mode": {
        "name": "ipython",
        "version": 3
      },
      "pygments_lexer": "ipython3",
      "nbconvert_exporter": "python",
      "file_extension": ".py"
    },
    "microsoft": {
      "host": {
        "AzureML": {
          "notebookHasBeenCompleted": true
        }
      },
      "ms_spell_check": {
        "ms_spell_check_language": "en"
      }
    },
    "nteract": {
      "version": "nteract-front-end@1.0.0"
    }
  },
  "nbformat": 4,
  "nbformat_minor": 2
}