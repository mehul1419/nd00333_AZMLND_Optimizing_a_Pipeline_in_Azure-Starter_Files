{
  "cells": [
    {
      "cell_type": "code",
      "source": [
        "from azureml.core import Workspace, Experiment\n",
        "\n",
        "ws = Workspace.from_config()\n",
        "exp = Experiment(workspace=ws, name=\"udacity-project\")\n",
        "\n",
        "print('Workspace name: ' + ws.name, \n",
        "      'Azure region: ' + ws.location, \n",
        "      'Subscription id: ' + ws.subscription_id, \n",
        "      'Resource group: ' + ws.resource_group, sep = '\\n')\n",
        "\n",
        "run = exp.start_logging()"
      ],
      "outputs": [
        {
          "output_type": "stream",
          "name": "stdout",
          "text": "Workspace name: quick-starts-ws-259055\nAzure region: eastus2\nSubscription id: 510b94ba-e453-4417-988b-fbdc37b55ca7\nResource group: aml-quickstarts-259055\n"
        }
      ],
      "execution_count": 1,
      "metadata": {
        "gather": {
          "logged": 1715592212179
        }
      }
    },
    {
      "cell_type": "code",
      "source": [
        "from azureml.core.compute import ComputeTarget, AmlCompute\n",
        "\n",
        "cluster_name = \"ComputeCluster\"\n",
        "\n",
        "# Use vm_size = \"Standard_D2_V2\" in your provisioning configuration.\n",
        "# max_nodes should be no greater than 4.\n",
        "\n",
        "compute_config = AmlCompute.provisioning_configuration(\n",
        "    vm_size = \"STANDARD_D2_V2\",\n",
        "    min_nodes=0,\n",
        "    max_nodes=4,\n",
        ")\n",
        "\n",
        "try:\n",
        "    cluster_handle = ComputeTarget(workspace=ws, name=cluster_name)\n",
        "    print(\"Cluster already exist. Using it.\")\n",
        "except:\n",
        "    print(\"Could not find such cluster. Creating one.\")\n",
        "    cluster_handle = ComputeTarget.create(workspace=ws, name=cluster_name, provisioning_configuration=compute_config)\n",
        "cluster_handle.wait_for_completion()"
      ],
      "outputs": [
        {
          "output_type": "stream",
          "name": "stdout",
          "text": "Cluster already exist. Using it.\n"
        }
      ],
      "execution_count": 3,
      "metadata": {
        "gather": {
          "logged": 1715592352717
        },
        "jupyter": {
          "outputs_hidden": false,
          "source_hidden": false
        },
        "nteract": {
          "transient": {
            "deleting": false
          }
        }
      }
    },
    {
      "cell_type": "code",
      "source": [
        "pip install azureml-sdk[automl,notebooks,explain,train]"
      ],
      "outputs": [
        {
          "output_type": "stream",
          "name": "stdout",
          "text": "Collecting azureml-sdk[automl,explain,notebooks,train]\n  Downloading azureml_sdk-1.56.0-py3-none-any.whl (2.7 kB)\n\u001b[33mWARNING: azureml-sdk 1.56.0 does not provide the extra 'train'\u001b[0m\u001b[33m\n\u001b[0mCollecting azureml-core~=1.56.0\n  Downloading azureml_core-1.56.0-py3-none-any.whl (3.3 MB)\n\u001b[2K     \u001b[90m━━━━━━━━━━━━━━━━━━━━━━━━━━━━━━━━━━━━━━━━\u001b[0m \u001b[32m3.3/3.3 MB\u001b[0m \u001b[31m22.0 MB/s\u001b[0m eta \u001b[36m0:00:00\u001b[0m00:01\u001b[0m00:01\u001b[0m\n\u001b[?25hCollecting azureml-train-automl-client~=1.56.0\n  Downloading azureml_train_automl_client-1.56.0-py3-none-any.whl (137 kB)\n\u001b[2K     \u001b[90m━━━━━━━━━━━━━━━━━━━━━━━━━━━━━━━━━━━━━━━\u001b[0m \u001b[32m137.7/137.7 kB\u001b[0m \u001b[31m5.7 MB/s\u001b[0m eta \u001b[36m0:00:00\u001b[0m\n\u001b[?25hCollecting azureml-dataset-runtime[fuse]~=1.56.0\n  Downloading azureml_dataset_runtime-1.56.0-py3-none-any.whl (2.3 kB)\nCollecting azureml-pipeline~=1.56.0\n  Downloading azureml_pipeline-1.56.0-py3-none-any.whl (2.4 kB)\nCollecting azureml-train-core~=1.56.0\n  Downloading azureml_train_core-1.56.0-py3-none-any.whl (8.6 MB)\n\u001b[2K     \u001b[90m━━━━━━━━━━━━━━━━━━━━━━━━━━━━━━━━━━━━━━━━\u001b[0m \u001b[32m8.6/8.6 MB\u001b[0m \u001b[31m39.5 MB/s\u001b[0m eta \u001b[36m0:00:00\u001b[0m00:01\u001b[0m00:01\u001b[0m\n\u001b[?25hCollecting azureml-explain-model~=1.56.0\n  Downloading azureml_explain_model-1.56.0-py3-none-any.whl (20 kB)\nCollecting azureml-contrib-notebook~=1.56.0\n  Downloading azureml_contrib_notebook-1.56.0-py3-none-any.whl (28 kB)\nCollecting azureml-widgets~=1.56.0\n  Downloading azureml_widgets-1.56.0-py3-none-any.whl (14.1 MB)\n\u001b[2K     \u001b[90m━━━━━━━━━━━━━━━━━━━━━━━━━━━━━━━━━━━━━━━━\u001b[0m \u001b[32m14.1/14.1 MB\u001b[0m \u001b[31m34.9 MB/s\u001b[0m eta \u001b[36m0:00:00\u001b[0m00:01\u001b[0m00:01\u001b[0m\n\u001b[?25hCollecting azureml-train-automl~=1.56.0\n  Downloading azureml_train_automl-1.56.0-py3-none-any.whl (2.4 kB)\nRequirement already satisfied: nbconvert<8 in /anaconda/envs/jupyter_env/lib/python3.8/site-packages (from azureml-contrib-notebook~=1.56.0->azureml-sdk[automl,explain,notebooks,train]) (7.6.0)\nCollecting papermill<3\n  Downloading papermill-2.6.0-py3-none-any.whl (38 kB)\nRequirement already satisfied: ipykernel in /anaconda/envs/jupyter_env/lib/python3.8/site-packages (from azureml-contrib-notebook~=1.56.0->azureml-sdk[automl,explain,notebooks,train]) (6.20.2)\nCollecting jupyter-client<8\n  Downloading jupyter_client-7.4.9-py3-none-any.whl (133 kB)\n\u001b[2K     \u001b[90m━━━━━━━━━━━━━━━━━━━━━━━━━━━━━━━━━━━━━━━\u001b[0m \u001b[32m133.5/133.5 kB\u001b[0m \u001b[31m6.4 MB/s\u001b[0m eta \u001b[36m0:00:00\u001b[0m\n\u001b[?25hRequirement already satisfied: ipython in /anaconda/envs/jupyter_env/lib/python3.8/site-packages (from azureml-contrib-notebook~=1.56.0->azureml-sdk[automl,explain,notebooks,train]) (8.12.2)\nCollecting azureml-pipeline-core~=1.56.0\n  Downloading azureml_pipeline_core-1.56.0-py3-none-any.whl (313 kB)\n\u001b[2K     \u001b[90m━━━━━━━━━━━━━━━━━━━━━━━━━━━━━━━━━━━━━━\u001b[0m \u001b[32m313.7/313.7 kB\u001b[0m \u001b[31m12.1 MB/s\u001b[0m eta \u001b[36m0:00:00\u001b[0m\n\u001b[?25hRequirement already satisfied: msal-extensions<=2.0.0,>=0.3.0 in /anaconda/envs/jupyter_env/lib/python3.8/site-packages (from azureml-core~=1.56.0->azureml-sdk[automl,explain,notebooks,train]) (1.0.0)\nRequirement already satisfied: humanfriendly<11.0,>=4.7 in /anaconda/envs/jupyter_env/lib/python3.8/site-packages (from azureml-core~=1.56.0->azureml-sdk[automl,explain,notebooks,train]) (10.0)\nRequirement already satisfied: jmespath<2.0.0 in /anaconda/envs/jupyter_env/lib/python3.8/site-packages (from azureml-core~=1.56.0->azureml-sdk[automl,explain,notebooks,train]) (1.0.1)\nRequirement already satisfied: pyopenssl<25.0.0 in /anaconda/envs/jupyter_env/lib/python3.8/site-packages (from azureml-core~=1.56.0->azureml-sdk[automl,explain,notebooks,train]) (23.2.0)\nRequirement already satisfied: SecretStorage<4.0.0 in /anaconda/envs/jupyter_env/lib/python3.8/site-packages (from azureml-core~=1.56.0->azureml-sdk[automl,explain,notebooks,train]) (3.3.3)\nRequirement already satisfied: msrestazure<=0.6.4,>=0.4.33 in /anaconda/envs/jupyter_env/lib/python3.8/site-packages (from azureml-core~=1.56.0->azureml-sdk[automl,explain,notebooks,train]) (0.6.4)\nRequirement already satisfied: azure-mgmt-containerregistry<11,>=8.2.0 in /anaconda/envs/jupyter_env/lib/python3.8/site-packages (from azureml-core~=1.56.0->azureml-sdk[automl,explain,notebooks,train]) (10.1.0)\nRequirement already satisfied: backports.tempfile in /anaconda/envs/jupyter_env/lib/python3.8/site-packages (from azureml-core~=1.56.0->azureml-sdk[automl,explain,notebooks,train]) (1.0)\nCollecting azure-mgmt-network<=26.0.0\n  Downloading azure_mgmt_network-25.3.0-py3-none-any.whl (660 kB)\n\u001b[2K     \u001b[90m━━━━━━━━━━━━━━━━━━━━━━━━━━━━━━━━━━━━━━\u001b[0m \u001b[32m660.9/660.9 kB\u001b[0m \u001b[31m15.1 MB/s\u001b[0m eta \u001b[36m0:00:00\u001b[0m00:01\u001b[0m\n\u001b[?25hRequirement already satisfied: requests[socks]<3.0.0,>=2.19.1 in /anaconda/envs/jupyter_env/lib/python3.8/site-packages (from azureml-core~=1.56.0->azureml-sdk[automl,explain,notebooks,train]) (2.31.0)\nRequirement already satisfied: azure-mgmt-keyvault<11.0.0,>=0.40.0 in /anaconda/envs/jupyter_env/lib/python3.8/site-packages (from azureml-core~=1.56.0->azureml-sdk[automl,explain,notebooks,train]) (10.2.2)\nRequirement already satisfied: azure-core<2.0.0 in /anaconda/envs/jupyter_env/lib/python3.8/site-packages (from azureml-core~=1.56.0->azureml-sdk[automl,explain,notebooks,train]) (1.27.1)\nRequirement already satisfied: azure-mgmt-storage<=22.0.0,>=16.0.0 in /anaconda/envs/jupyter_env/lib/python3.8/site-packages (from azureml-core~=1.56.0->azureml-sdk[automl,explain,notebooks,train]) (21.0.0)\nRequirement already satisfied: azure-graphrbac<1.0.0,>=0.40.0 in /anaconda/envs/jupyter_env/lib/python3.8/site-packages (from azureml-core~=1.56.0->azureml-sdk[automl,explain,notebooks,train]) (0.61.1)\nRequirement already satisfied: argcomplete<4 in /anaconda/envs/jupyter_env/lib/python3.8/site-packages (from azureml-core~=1.56.0->azureml-sdk[automl,explain,notebooks,train]) (2.1.2)\nRequirement already satisfied: adal<=1.2.7,>=1.2.0 in /anaconda/envs/jupyter_env/lib/python3.8/site-packages (from azureml-core~=1.56.0->azureml-sdk[automl,explain,notebooks,train]) (1.2.7)\nRequirement already satisfied: pkginfo in /anaconda/envs/jupyter_env/lib/python3.8/site-packages (from azureml-core~=1.56.0->azureml-sdk[automl,explain,notebooks,train]) (1.9.6)\nRequirement already satisfied: azure-mgmt-authorization<5,>=0.40.0 in /anaconda/envs/jupyter_env/lib/python3.8/site-packages (from azureml-core~=1.56.0->azureml-sdk[automl,explain,notebooks,train]) (3.0.0)\nRequirement already satisfied: knack<0.12.0 in /anaconda/envs/jupyter_env/lib/python3.8/site-packages (from azureml-core~=1.56.0->azureml-sdk[automl,explain,notebooks,train]) (0.10.1)\nRequirement already satisfied: docker<8.0.0 in /anaconda/envs/jupyter_env/lib/python3.8/site-packages (from azureml-core~=1.56.0->azureml-sdk[automl,explain,notebooks,train]) (6.1.3)\nRequirement already satisfied: PyJWT<3.0.0 in /anaconda/envs/jupyter_env/lib/python3.8/site-packages (from azureml-core~=1.56.0->azureml-sdk[automl,explain,notebooks,train]) (2.7.0)\nCollecting urllib3<3.0.0,>1.26.17\n  Downloading urllib3-2.2.1-py3-none-any.whl (121 kB)\n\u001b[2K     \u001b[90m━━━━━━━━━━━━━━━━━━━━━━━━━━━━━━━━━━━━━━━\u001b[0m \u001b[32m121.1/121.1 kB\u001b[0m \u001b[31m4.4 MB/s\u001b[0m eta \u001b[36m0:00:00\u001b[0m\n\u001b[?25hRequirement already satisfied: python-dateutil<3.0.0,>=2.7.3 in /anaconda/envs/jupyter_env/lib/python3.8/site-packages (from azureml-core~=1.56.0->azureml-sdk[automl,explain,notebooks,train]) (2.8.2)\nRequirement already satisfied: msrest<=0.7.1,>=0.5.1 in /anaconda/envs/jupyter_env/lib/python3.8/site-packages (from azureml-core~=1.56.0->azureml-sdk[automl,explain,notebooks,train]) (0.7.1)\nRequirement already satisfied: pytz in /anaconda/envs/jupyter_env/lib/python3.8/site-packages (from azureml-core~=1.56.0->azureml-sdk[automl,explain,notebooks,train]) (2023.3)\nRequirement already satisfied: azure-mgmt-resource<=24.0.0,>=15.0.0 in /anaconda/envs/jupyter_env/lib/python3.8/site-packages (from azureml-core~=1.56.0->azureml-sdk[automl,explain,notebooks,train]) (22.0.0)\nRequirement already satisfied: azure-common<2.0.0,>=1.1.12 in /anaconda/envs/jupyter_env/lib/python3.8/site-packages (from azureml-core~=1.56.0->azureml-sdk[automl,explain,notebooks,train]) (1.1.28)\nRequirement already satisfied: contextlib2<22.0.0 in /anaconda/envs/jupyter_env/lib/python3.8/site-packages (from azureml-core~=1.56.0->azureml-sdk[automl,explain,notebooks,train]) (21.6.0)\nRequirement already satisfied: paramiko<4.0.0,>=2.0.8 in /anaconda/envs/jupyter_env/lib/python3.8/site-packages (from azureml-core~=1.56.0->azureml-sdk[automl,explain,notebooks,train]) (3.2.0)\nRequirement already satisfied: pathspec<1.0.0 in /anaconda/envs/jupyter_env/lib/python3.8/site-packages (from azureml-core~=1.56.0->azureml-sdk[automl,explain,notebooks,train]) (0.11.1)\nRequirement already satisfied: packaging<=25.0,>=20.0 in /anaconda/envs/jupyter_env/lib/python3.8/site-packages (from azureml-core~=1.56.0->azureml-sdk[automl,explain,notebooks,train]) (23.0)\nRequirement already satisfied: jsonpickle<4.0.0 in /anaconda/envs/jupyter_env/lib/python3.8/site-packages (from azureml-core~=1.56.0->azureml-sdk[automl,explain,notebooks,train]) (3.0.1)\nRequirement already satisfied: msal<2.0.0,>=1.15.0 in /anaconda/envs/jupyter_env/lib/python3.8/site-packages (from azureml-core~=1.56.0->azureml-sdk[automl,explain,notebooks,train]) (1.22.0)\nRequirement already satisfied: ndg-httpsclient<=0.5.1 in /anaconda/envs/jupyter_env/lib/python3.8/site-packages (from azureml-core~=1.56.0->azureml-sdk[automl,explain,notebooks,train]) (0.5.1)\nCollecting azureml-dataprep<5.2.0a,>=5.1.0a\n  Downloading azureml_dataprep-5.1.6-py3-none-any.whl (252 kB)\n\u001b[2K     \u001b[90m━━━━━━━━━━━━━━━━━━━━━━━━━━━━━━━━━━━━━━\u001b[0m \u001b[32m252.4/252.4 kB\u001b[0m \u001b[31m10.6 MB/s\u001b[0m eta \u001b[36m0:00:00\u001b[0m\n\u001b[?25hCollecting numpy!=1.19.3,<1.24\n  Downloading numpy-1.23.5-cp38-cp38-manylinux_2_17_x86_64.manylinux2014_x86_64.whl (17.1 MB)\n\u001b[2K     \u001b[90m━━━━━━━━━━━━━━━━━━━━━━━━━━━━━━━━━━━━━━━━\u001b[0m \u001b[32m17.1/17.1 MB\u001b[0m \u001b[31m36.7 MB/s\u001b[0m eta \u001b[36m0:00:00\u001b[0m00:01\u001b[0m00:01\u001b[0m\n\u001b[?25hRequirement already satisfied: pyarrow>=0.17.0 in /anaconda/envs/jupyter_env/lib/python3.8/site-packages (from azureml-dataset-runtime[fuse]~=1.56.0->azureml-sdk[automl,explain,notebooks,train]) (12.0.1)\nCollecting fusepy<4.0.0,>=3.0.1\n  Downloading fusepy-3.0.1.tar.gz (11 kB)\n  Preparing metadata (setup.py) ... \u001b[?25l-\b \bdone\n\u001b[?25hCollecting azureml-interpret~=1.56.0\n  Downloading azureml_interpret-1.56.0-py3-none-any.whl (52 kB)\n\u001b[2K     \u001b[90m━━━━━━━━━━━━━━━━━━━━━━━━━━━━━━━━━━━━━━━━\u001b[0m \u001b[32m52.1/52.1 kB\u001b[0m \u001b[31m2.1 MB/s\u001b[0m eta \u001b[36m0:00:00\u001b[0m\n\u001b[?25hCollecting azureml-pipeline-steps~=1.56.0\n  Downloading azureml_pipeline_steps-1.56.0-py3-none-any.whl (69 kB)\n\u001b[2K     \u001b[90m━━━━━━━━━━━━━━━━━━━━━━━━━━━━━━━━━━━━━━━━\u001b[0m \u001b[32m69.6/69.6 kB\u001b[0m \u001b[31m2.6 MB/s\u001b[0m eta \u001b[36m0:00:00\u001b[0m\n\u001b[?25hCollecting azureml-automl-runtime~=1.56.0\n  Downloading azureml_automl_runtime-1.56.0-py3-none-any.whl (1.8 MB)\n\u001b[2K     \u001b[90m━━━━━━━━━━━━━━━━━━━━━━━━━━━━━━━━━━━━━━━━\u001b[0m \u001b[32m1.8/1.8 MB\u001b[0m \u001b[31m19.9 MB/s\u001b[0m eta \u001b[36m0:00:00\u001b[0m:00:01\u001b[0m\n\u001b[?25hCollecting azureml-responsibleai~=1.56.0\n  Downloading azureml_responsibleai-1.56.0-py3-none-any.whl (99 kB)\n\u001b[2K     \u001b[90m━━━━━━━━━━━━━━━━━━━━━━━━━━━━━━━━━━━━━━━━\u001b[0m \u001b[32m99.8/99.8 kB\u001b[0m \u001b[31m5.0 MB/s\u001b[0m eta \u001b[36m0:00:00\u001b[0m\n\u001b[?25hCollecting azureml-automl-core~=1.56.0\n  Downloading azureml_automl_core-1.56.0-py3-none-any.whl (249 kB)\n\u001b[2K     \u001b[90m━━━━━━━━━━━━━━━━━━━━━━━━━━━━━━━━━━━━━━━\u001b[0m \u001b[32m249.1/249.1 kB\u001b[0m \u001b[31m9.3 MB/s\u001b[0m eta \u001b[36m0:00:00\u001b[0m\n\u001b[?25hCollecting azureml-train-automl-runtime~=1.56.0\n  Downloading azureml_train_automl_runtime-1.56.0-py3-none-any.whl (420 kB)\n\u001b[2K     \u001b[90m━━━━━━━━━━━━━━━━━━━━━━━━━━━━━━━━━━━━━━━\u001b[0m \u001b[32m420.7/420.7 kB\u001b[0m \u001b[31m8.7 MB/s\u001b[0m eta \u001b[36m0:00:00\u001b[0m00:01\u001b[0m\n\u001b[?25hCollecting azureml-telemetry~=1.56.0\n  Downloading azureml_telemetry-1.56.0-py3-none-any.whl (30 kB)\nCollecting azureml-train-restclients-hyperdrive~=1.56.0\n  Downloading azureml_train_restclients_hyperdrive-1.56.0-py3-none-any.whl (18 kB)\nRequirement already satisfied: ipywidgets<8.0.0,>=7.0.0 in /anaconda/envs/jupyter_env/lib/python3.8/site-packages (from azureml-widgets~=1.56.0->azureml-sdk[automl,explain,notebooks,train]) (7.7.5)\nRequirement already satisfied: azure-storage-blob>=12.6.0 in /anaconda/envs/jupyter_env/lib/python3.8/site-packages (from azureml-widgets~=1.56.0->azureml-sdk[automl,explain,notebooks,train]) (12.16.0)\nRequirement already satisfied: jinja2<4.0 in /anaconda/envs/jupyter_env/lib/python3.8/site-packages (from azureml-widgets~=1.56.0->azureml-sdk[automl,explain,notebooks,train]) (3.0.3)\nRequirement already satisfied: cryptography>=1.1.0 in /anaconda/envs/jupyter_env/lib/python3.8/site-packages (from adal<=1.2.7,>=1.2.0->azureml-core~=1.56.0->azureml-sdk[automl,explain,notebooks,train]) (41.0.1)\nRequirement already satisfied: six>=1.11.0 in /anaconda/envs/jupyter_env/lib/python3.8/site-packages (from azure-core<2.0.0->azureml-core~=1.56.0->azureml-sdk[automl,explain,notebooks,train]) (1.16.0)\nRequirement already satisfied: typing-extensions>=4.3.0 in /anaconda/envs/jupyter_env/lib/python3.8/site-packages (from azure-core<2.0.0->azureml-core~=1.56.0->azureml-sdk[automl,explain,notebooks,train]) (4.6.3)\nRequirement already satisfied: azure-mgmt-core<2.0.0,>=1.3.2 in /anaconda/envs/jupyter_env/lib/python3.8/site-packages (from azure-mgmt-authorization<5,>=0.40.0->azureml-core~=1.56.0->azureml-sdk[automl,explain,notebooks,train]) (1.4.0)\nRequirement already satisfied: isodate<1.0.0,>=0.6.1 in /anaconda/envs/jupyter_env/lib/python3.8/site-packages (from azure-mgmt-keyvault<11.0.0,>=0.40.0->azureml-core~=1.56.0->azureml-sdk[automl,explain,notebooks,train]) (0.6.1)\nCollecting statsmodels<0.14,>=0.13.0\n  Downloading statsmodels-0.13.5-cp38-cp38-manylinux_2_17_x86_64.manylinux2014_x86_64.whl (9.9 MB)\n\u001b[2K     \u001b[90m━━━━━━━━━━━━━━━━━━━━━━━━━━━━━━━━━━━━━━━━\u001b[0m \u001b[32m9.9/9.9 MB\u001b[0m \u001b[31m56.3 MB/s\u001b[0m eta \u001b[36m0:00:00\u001b[0m:00:01\u001b[0m00:01\u001b[0m\n\u001b[?25hCollecting pandas==1.3.5\n  Downloading pandas-1.3.5-cp38-cp38-manylinux_2_17_x86_64.manylinux2014_x86_64.whl (11.5 MB)\n\u001b[2K     \u001b[90m━━━━━━━━━━━━━━━━━━━━━━━━━━━━━━━━━━━━━━━━\u001b[0m \u001b[32m11.5/11.5 MB\u001b[0m \u001b[31m46.9 MB/s\u001b[0m eta \u001b[36m0:00:00\u001b[0m00:01\u001b[0m00:01\u001b[0m\n\u001b[?25hRequirement already satisfied: scipy<=1.11.0,>=1.0.0 in /anaconda/envs/jupyter_env/lib/python3.8/site-packages (from azureml-automl-runtime~=1.56.0->azureml-train-automl~=1.56.0->azureml-sdk[automl,explain,notebooks,train]) (1.10.1)\nCollecting scikit-learn==1.1.3\n  Downloading scikit_learn-1.1.3-cp38-cp38-manylinux_2_17_x86_64.manylinux2014_x86_64.whl (31.2 MB)\n\u001b[2K     \u001b[90m━━━━━━━━━━━━━━━━━━━━━━━━━━━━━━━━━━━━━━━━\u001b[0m \u001b[32m31.2/31.2 MB\u001b[0m \u001b[31m21.3 MB/s\u001b[0m eta \u001b[36m0:00:00\u001b[0m00:01\u001b[0m00:01\u001b[0m\n\u001b[?25hCollecting protobuf<=3.20.3\n  Downloading protobuf-3.20.3-cp38-cp38-manylinux_2_5_x86_64.manylinux1_x86_64.whl (1.0 MB)\n\u001b[2K     \u001b[90m━━━━━━━━━━━━━━━━━━━━━━━━━━━━━━━━━━━━━━━━\u001b[0m \u001b[32m1.0/1.0 MB\u001b[0m \u001b[31m23.2 MB/s\u001b[0m eta \u001b[36m0:00:00\u001b[0m:00:01\u001b[0m\n\u001b[?25hRequirement already satisfied: dotnetcore2<4.0.0,>=3.0.0 in /anaconda/envs/jupyter_env/lib/python3.8/site-packages (from azureml-automl-runtime~=1.56.0->azureml-train-automl~=1.56.0->azureml-sdk[automl,explain,notebooks,train]) (3.1.23)\nCollecting smart-open<=1.9.0\n  Downloading smart_open-1.9.0.tar.gz (70 kB)\n\u001b[2K     \u001b[90m━━━━━━━━━━━━━━━━━━━━━━━━━━━━━━━━━━━━━━━━\u001b[0m \u001b[32m70.6/70.6 kB\u001b[0m \u001b[31m4.0 MB/s\u001b[0m eta \u001b[36m0:00:00\u001b[0m\n\u001b[?25h  Preparing metadata (setup.py) ... \u001b[?25l-\b \bdone\n\u001b[?25hCollecting botocore<=1.23.19\n  Downloading botocore-1.23.19-py3-none-any.whl (8.4 MB)\n\u001b[2K     \u001b[90m━━━━━━━━━━━━━━━━━━━━━━━━━━━━━━━━━━━━━━━━\u001b[0m \u001b[32m8.4/8.4 MB\u001b[0m \u001b[31m48.9 MB/s\u001b[0m eta \u001b[36m0:00:00\u001b[0m:00:01\u001b[0m00:01\u001b[0m\n\u001b[?25hCollecting onnx<=1.14.1,>=1.14.0\n  Downloading onnx-1.14.1-cp38-cp38-manylinux_2_17_x86_64.manylinux2014_x86_64.whl (14.6 MB)\n\u001b[2K     \u001b[90m━━━━━━━━━━━━━━━━━━━━━━━━━━━━━━━━━━━━━━━━\u001b[0m \u001b[32m14.6/14.6 MB\u001b[0m \u001b[31m36.5 MB/s\u001b[0m eta \u001b[36m0:00:00\u001b[0m00:01\u001b[0m00:01\u001b[0m\n\u001b[?25hCollecting arch<=5.6.0\n  Downloading arch-5.6.0-cp38-cp38-manylinux_2_17_x86_64.manylinux2014_x86_64.whl (920 kB)\n\u001b[2K     \u001b[90m━━━━━━━━━━━━━━━━━━━━━━━━━━━━━━━━━━━━━━\u001b[0m \u001b[32m921.0/921.0 kB\u001b[0m \u001b[31m18.5 MB/s\u001b[0m eta \u001b[36m0:00:00\u001b[0m00:01\u001b[0m\n\u001b[?25hCollecting dill<0.4.0,>=0.2.8\n  Downloading dill-0.3.8-py3-none-any.whl (116 kB)\n\u001b[2K     \u001b[90m━━━━━━━━━━━━━━━━━━━━━━━━━━━━━━━━━━━━━━━\u001b[0m \u001b[32m116.3/116.3 kB\u001b[0m \u001b[31m4.3 MB/s\u001b[0m eta \u001b[36m0:00:00\u001b[0m\n\u001b[?25hCollecting psutil<5.9.4,>=5.2.2\n  Downloading psutil-5.9.3-cp38-cp38-manylinux_2_12_x86_64.manylinux2010_x86_64.manylinux_2_17_x86_64.manylinux2014_x86_64.whl (295 kB)\n\u001b[2K     \u001b[90m━━━━━━━━━━━━━━━━━━━━━━━━━━━━━━━━━━━━━━━\u001b[0m \u001b[32m295.6/295.6 kB\u001b[0m \u001b[31m6.4 MB/s\u001b[0m eta \u001b[36m0:00:00\u001b[0ma \u001b[36m0:00:01\u001b[0m\n\u001b[?25hCollecting onnxruntime~=1.14.0\n  Downloading onnxruntime-1.14.1-cp38-cp38-manylinux_2_27_x86_64.whl (5.0 MB)\n\u001b[2K     \u001b[90m━━━━━━━━━━━━━━━━━━━━━━━━━━━━━━━━━━━━━━━━\u001b[0m \u001b[32m5.0/5.0 MB\u001b[0m \u001b[31m37.6 MB/s\u001b[0m eta \u001b[36m0:00:00\u001b[0m:00:01\u001b[0m\n\u001b[?25hCollecting sklearn-pandas<=1.7.0,>=1.4.0\n  Downloading sklearn_pandas-1.7.0-py2.py3-none-any.whl (10 kB)\nCollecting urllib3<3.0.0,>1.26.17\n  Downloading urllib3-1.26.18-py2.py3-none-any.whl (143 kB)\n\u001b[2K     \u001b[90m━━━━━━━━━━━━━━━━━━━━━━━━━━━━━━━━━━━━━━━\u001b[0m \u001b[32m143.8/143.8 kB\u001b[0m \u001b[31m6.9 MB/s\u001b[0m eta \u001b[36m0:00:00\u001b[0m\n\u001b[?25hCollecting azureml-training-tabular~=1.56.0\n  Downloading azureml_training_tabular-1.56.0-py3-none-any.whl (1.7 MB)\n\u001b[2K     \u001b[90m━━━━━━━━━━━━━━━━━━━━━━━━━━━━━━━━━━━━━━━━\u001b[0m \u001b[32m1.7/1.7 MB\u001b[0m \u001b[31m33.5 MB/s\u001b[0m eta \u001b[36m0:00:00\u001b[0m:00:01\u001b[0m\n\u001b[?25hCollecting lightgbm<=3.2.1,>=3.0.0\n  Downloading lightgbm-3.2.1-py3-none-manylinux1_x86_64.whl (2.0 MB)\n\u001b[2K     \u001b[90m━━━━━━━━━━━━━━━━━━━━━━━━━━━━━━━━━━━━━━━━\u001b[0m \u001b[32m2.0/2.0 MB\u001b[0m \u001b[31m34.5 MB/s\u001b[0m eta \u001b[36m0:00:00\u001b[0m:00:01\u001b[0m\n\u001b[?25hCollecting pmdarima==1.8.5\n  Downloading pmdarima-1.8.5-cp38-cp38-manylinux_2_17_x86_64.manylinux2014_x86_64.manylinux_2_24_x86_64.whl (1.5 MB)\n\u001b[2K     \u001b[90m━━━━━━━━━━━━━━━━━━━━━━━━━━━━━━━━━━━━━━━━\u001b[0m \u001b[32m1.5/1.5 MB\u001b[0m \u001b[31m21.5 MB/s\u001b[0m eta \u001b[36m0:00:00\u001b[0m:00:01\u001b[0m\n\u001b[?25hCollecting gensim<3.9.0\n  Downloading gensim-3.8.3-cp38-cp38-manylinux1_x86_64.whl (24.2 MB)\n\u001b[2K     \u001b[90m━━━━━━━━━━━━━━━━━━━━━━━━━━━━━━━━━━━━━━━━\u001b[0m \u001b[32m24.2/24.2 MB\u001b[0m \u001b[31m28.7 MB/s\u001b[0m eta \u001b[36m0:00:00\u001b[0m00:01\u001b[0m00:01\u001b[0m\n\u001b[?25hCollecting onnxconverter-common==1.13.0\n  Downloading onnxconverter_common-1.13.0-py2.py3-none-any.whl (83 kB)\n\u001b[2K     \u001b[90m━━━━━━━━━━━━━━━━━━━━━━━━━━━━━━━━━━━━━━━━\u001b[0m \u001b[32m83.8/83.8 kB\u001b[0m \u001b[31m4.3 MB/s\u001b[0m eta \u001b[36m0:00:00\u001b[0m\n\u001b[?25hCollecting boto3<=1.20.19\n  Downloading boto3-1.20.19-py3-none-any.whl (131 kB)\n\u001b[2K     \u001b[90m━━━━━━━━━━━━━━━━━━━━━━━━━━━━━━━━━━━━━━━\u001b[0m \u001b[32m131.8/131.8 kB\u001b[0m \u001b[31m3.9 MB/s\u001b[0m eta \u001b[36m0:00:00\u001b[0m\n\u001b[?25hCollecting keras2onnx<=1.6.0,>=1.4.0\n  Downloading keras2onnx-1.6.0-py3-none-any.whl (219 kB)\n\u001b[2K     \u001b[90m━━━━━━━━━━━━━━━━━━━━━━━━━━━━━━━━━━━━━━\u001b[0m \u001b[32m219.8/219.8 kB\u001b[0m \u001b[31m10.3 MB/s\u001b[0m eta \u001b[36m0:00:00\u001b[0m\n\u001b[?25hCollecting skl2onnx==1.14.1\n  Downloading skl2onnx-1.14.1-py2.py3-none-any.whl (292 kB)\n\u001b[2K     \u001b[90m━━━━━━━━━━━━━━━━━━━━━━━━━━━━━━━━━━━━━━━\u001b[0m \u001b[32m292.3/292.3 kB\u001b[0m \u001b[31m7.2 MB/s\u001b[0m eta \u001b[36m0:00:00\u001b[0m00:01\u001b[0m\n\u001b[?25hCollecting dataclasses<=0.8,>=0.6\n  Downloading dataclasses-0.6-py3-none-any.whl (14 kB)\nCollecting joblib==1.2.0\n  Downloading joblib-1.2.0-py3-none-any.whl (297 kB)\n\u001b[2K     \u001b[90m━━━━━━━━━━━━━━━━━━━━━━━━━━━━━━━━━━━━━━\u001b[0m \u001b[32m298.0/298.0 kB\u001b[0m \u001b[31m10.9 MB/s\u001b[0m eta \u001b[36m0:00:00\u001b[0m\n\u001b[?25hCollecting onnxmltools==1.11.2\n  Downloading onnxmltools-1.11.2-py2.py3-none-any.whl (322 kB)\n\u001b[2K     \u001b[90m━━━━━━━━━━━━━━━━━━━━━━━━━━━━━━━━━━━━━━\u001b[0m \u001b[32m322.5/322.5 kB\u001b[0m \u001b[31m11.2 MB/s\u001b[0m eta \u001b[36m0:00:00\u001b[0m\n\u001b[?25hCollecting Cython!=0.29.18,>=0.29\n  Downloading Cython-3.0.10-cp38-cp38-manylinux_2_17_x86_64.manylinux2014_x86_64.whl (3.6 MB)\n\u001b[2K     \u001b[90m━━━━━━━━━━━━━━━━━━━━━━━━━━━━━━━━━━━━━━━━\u001b[0m \u001b[32m3.6/3.6 MB\u001b[0m \u001b[31m36.2 MB/s\u001b[0m eta \u001b[36m0:00:00\u001b[0m:00:01\u001b[0m\n\u001b[?25hRequirement already satisfied: setuptools!=50.0.0,>=38.6.0 in /anaconda/envs/jupyter_env/lib/python3.8/site-packages (from pmdarima==1.8.5->azureml-automl-runtime~=1.56.0->azureml-train-automl~=1.56.0->azureml-sdk[automl,explain,notebooks,train]) (65.6.3)\nCollecting threadpoolctl>=2.0.0\n  Downloading threadpoolctl-3.5.0-py3-none-any.whl (18 kB)\nCollecting azureml-dataprep-rslex~=2.22.2dev0\n  Downloading azureml_dataprep_rslex-2.22.2-cp38-cp38-manylinux_2_17_x86_64.manylinux2014_x86_64.whl (24.7 MB)\n\u001b[2K     \u001b[90m━━━━━━━━━━━━━━━━━━━━━━━━━━━━━━━━━━━━━━━━\u001b[0m \u001b[32m24.7/24.7 MB\u001b[0m \u001b[31m29.2 MB/s\u001b[0m eta \u001b[36m0:00:00\u001b[0m00:01\u001b[0m00:01\u001b[0m\n\u001b[?25hRequirement already satisfied: jsonschema in /anaconda/envs/jupyter_env/lib/python3.8/site-packages (from azureml-dataprep<5.2.0a,>=5.1.0a->azureml-dataset-runtime[fuse]~=1.56.0->azureml-sdk[automl,explain,notebooks,train]) (4.17.3)\nCollecting azure-identity>=1.7.0\n  Downloading azure_identity-1.16.0-py3-none-any.whl (166 kB)\n\u001b[2K     \u001b[90m━━━━━━━━━━━━━━━━━━━━━━━━━━━━━━━━━━━━━━━\u001b[0m \u001b[32m166.1/166.1 kB\u001b[0m \u001b[31m8.8 MB/s\u001b[0m eta \u001b[36m0:00:00\u001b[0m\n\u001b[?25hCollecting azureml-dataprep-native<42.0.0,>=41.0.0\n  Downloading azureml_dataprep_native-41.0.0-cp38-cp38-manylinux1_x86_64.whl (1.5 MB)\n\u001b[2K     \u001b[90m━━━━━━━━━━━━━━━━━━━━━━━━━━━━━━━━━━━━━━━━\u001b[0m \u001b[32m1.5/1.5 MB\u001b[0m \u001b[31m25.8 MB/s\u001b[0m eta \u001b[36m0:00:00\u001b[0m:00:01\u001b[0m\n\u001b[?25hRequirement already satisfied: cloudpickle<3.0.0,>=1.1.0 in /anaconda/envs/jupyter_env/lib/python3.8/site-packages (from azureml-dataprep<5.2.0a,>=5.1.0a->azureml-dataset-runtime[fuse]~=1.56.0->azureml-sdk[automl,explain,notebooks,train]) (2.2.1)\nRequirement already satisfied: pyyaml<7.0.0,>=5.1.0 in /anaconda/envs/jupyter_env/lib/python3.8/site-packages (from azureml-dataprep<5.2.0a,>=5.1.0a->azureml-dataset-runtime[fuse]~=1.56.0->azureml-sdk[automl,explain,notebooks,train]) (6.0)\nCollecting numba<=0.56.4\n  Downloading numba-0.56.4-cp38-cp38-manylinux2014_x86_64.manylinux_2_17_x86_64.whl (3.5 MB)\n\u001b[2K     \u001b[90m━━━━━━━━━━━━━━━━━━━━━━━━━━━━━━━━━━━━━━━━\u001b[0m \u001b[32m3.5/3.5 MB\u001b[0m \u001b[31m38.3 MB/s\u001b[0m eta \u001b[36m0:00:00\u001b[0m:00:01\u001b[0m\n\u001b[?25hCollecting interpret-community==0.31.*\n  Downloading interpret_community-0.31.0-py3-none-any.whl (130 kB)\n\u001b[2K     \u001b[90m━━━━━━━━━━━━━━━━━━━━━━━━━━━━━━━━━━━━━━━\u001b[0m \u001b[32m130.7/130.7 kB\u001b[0m \u001b[31m5.8 MB/s\u001b[0m eta \u001b[36m0:00:00\u001b[0m\n\u001b[?25hCollecting interpret-core<=0.5.0,>=0.1.20\n  Downloading interpret_core-0.5.0-py3-none-any.whl (15.8 MB)\n\u001b[2K     \u001b[90m━━━━━━━━━━━━━━━━━━━━━━━━━━━━━━━━━━━━━━━━\u001b[0m \u001b[32m15.8/15.8 MB\u001b[0m \u001b[31m37.4 MB/s\u001b[0m eta \u001b[36m0:00:00\u001b[0m00:01\u001b[0m00:01\u001b[0m\n\u001b[?25hCollecting ml-wrappers~=0.5.4\n  Downloading ml_wrappers-0.5.5-py3-none-any.whl (51 kB)\n\u001b[2K     \u001b[90m━━━━━━━━━━━━━━━━━━━━━━━━━━━━━━━━━━━━━━━━\u001b[0m \u001b[32m51.9/51.9 kB\u001b[0m \u001b[31m3.2 MB/s\u001b[0m eta \u001b[36m0:00:00\u001b[0m\n\u001b[?25hCollecting shap<=0.44.0,>=0.20.0\n  Downloading shap-0.44.0-cp38-cp38-manylinux_2_12_x86_64.manylinux2010_x86_64.manylinux_2_17_x86_64.manylinux2014_x86_64.whl (536 kB)\n\u001b[2K     \u001b[90m━━━━━━━━━━━━━━━━━━━━━━━━━━━━━━━━━━━━━━\u001b[0m \u001b[32m536.3/536.3 kB\u001b[0m \u001b[31m11.3 MB/s\u001b[0m eta \u001b[36m0:00:00\u001b[0m00:01\u001b[0m\n\u001b[?25hCollecting raiutils~=0.4.0\n  Downloading raiutils-0.4.2-py3-none-any.whl (17 kB)\nCollecting responsibleai==0.33.0\n  Downloading responsibleai-0.33.0-py3-none-any.whl (157 kB)\n\u001b[2K     \u001b[90m━━━━━━━━━━━━━━━━━━━━━━━━━━━━━━━━━━━━━━━\u001b[0m \u001b[32m157.9/157.9 kB\u001b[0m \u001b[31m4.0 MB/s\u001b[0m eta \u001b[36m0:00:00\u001b[0ma \u001b[36m0:00:01\u001b[0m\n\u001b[?25hCollecting fairlearn==0.7.0\n  Downloading fairlearn-0.7.0-py3-none-any.whl (177 kB)\n\u001b[2K     \u001b[90m━━━━━━━━━━━━━━━━━━━━━━━━━━━━━━━━━━━━━━━\u001b[0m \u001b[32m177.5/177.5 kB\u001b[0m \u001b[31m9.2 MB/s\u001b[0m eta \u001b[36m0:00:00\u001b[0m\n\u001b[?25hCollecting erroranalysis>=0.5.3\n  Downloading erroranalysis-0.5.4-py3-none-any.whl (41 kB)\n\u001b[2K     \u001b[90m━━━━━━━━━━━━━━━━━━━━━━━━━━━━━━━━━━━━━━━━\u001b[0m \u001b[32m41.5/41.5 kB\u001b[0m \u001b[31m2.3 MB/s\u001b[0m eta \u001b[36m0:00:00\u001b[0m\n\u001b[?25hCollecting networkx<=2.5\n  Downloading networkx-2.5-py3-none-any.whl (1.6 MB)\n\u001b[2K     \u001b[90m━━━━━━━━━━━━━━━━━━━━━━━━━━━━━━━━━━━━━━━━\u001b[0m \u001b[32m1.6/1.6 MB\u001b[0m \u001b[31m31.5 MB/s\u001b[0m eta \u001b[36m0:00:00\u001b[0m:00:01\u001b[0m\n\u001b[?25hCollecting ipykernel\n  Downloading ipykernel-6.8.0-py3-none-any.whl (128 kB)\n\u001b[2K     \u001b[90m━━━━━━━━━━━━━━━━━━━━━━━━━━━━━━━━━━━━━━━\u001b[0m \u001b[32m128.3/128.3 kB\u001b[0m \u001b[31m5.8 MB/s\u001b[0m eta \u001b[36m0:00:00\u001b[0m\n\u001b[?25hCollecting econml>=0.14.1\n  Downloading econml-0.15.0-cp38-cp38-manylinux_2_17_x86_64.manylinux2014_x86_64.whl (4.6 MB)\n\u001b[2K     \u001b[90m━━━━━━━━━━━━━━━━━━━━━━━━━━━━━━━━━━━━━━━━\u001b[0m \u001b[32m4.6/4.6 MB\u001b[0m \u001b[31m44.5 MB/s\u001b[0m eta \u001b[36m0:00:00\u001b[0m:00:01\u001b[0m00:01\u001b[0m\n\u001b[?25hRequirement already satisfied: markupsafe<=2.1.2 in /anaconda/envs/jupyter_env/lib/python3.8/site-packages (from responsibleai==0.33.0->azureml-responsibleai~=1.56.0->azureml-train-automl~=1.56.0->azureml-sdk[automl,explain,notebooks,train]) (2.0.1)\nCollecting dice-ml<0.12,>=0.11\n  Downloading dice_ml-0.11-py3-none-any.whl (2.5 MB)\n\u001b[2K     \u001b[90m━━━━━━━━━━━━━━━━━━━━━━━━━━━━━━━━━━━━━━━━\u001b[0m \u001b[32m2.5/2.5 MB\u001b[0m \u001b[31m21.9 MB/s\u001b[0m eta \u001b[36m0:00:00\u001b[0m:00:01\u001b[0m\n\u001b[?25hCollecting semver~=2.13.0\n  Downloading semver-2.13.0-py2.py3-none-any.whl (12 kB)\nRequirement already satisfied: applicationinsights in /anaconda/envs/jupyter_env/lib/python3.8/site-packages (from azureml-telemetry~=1.56.0->azureml-train-automl-client~=1.56.0->azureml-sdk[automl,explain,notebooks,train]) (0.11.10)\nCollecting azure-storage-queue~=12.1\n  Downloading azure_storage_queue-12.10.0-py3-none-any.whl (181 kB)\n\u001b[2K     \u001b[90m━━━━━━━━━━━━━━━━━━━━━━━━━━━━━━━━━━━━━━━\u001b[0m \u001b[32m181.1/181.1 kB\u001b[0m \u001b[31m9.5 MB/s\u001b[0m eta \u001b[36m0:00:00\u001b[0m\n\u001b[?25hCollecting pyarrow>=0.17.0\n  Downloading pyarrow-14.0.2-cp38-cp38-manylinux_2_28_x86_64.whl (38.1 MB)\n\u001b[2K     \u001b[90m━━━━━━━━━━━━━━━━━━━━━━━━━━━━━━━━━━━━━━━━\u001b[0m \u001b[32m38.1/38.1 MB\u001b[0m \u001b[31m18.9 MB/s\u001b[0m eta \u001b[36m0:00:00\u001b[0m00:01\u001b[0m00:01\u001b[0m\n\u001b[?25hCollecting azureml-mlflow~=1.56.0\n  Downloading azureml_mlflow-1.56.0-py3-none-any.whl (1.0 MB)\n\u001b[2K     \u001b[90m━━━━━━━━━━━━━━━━━━━━━━━━━━━━━━━━━━━━━━━━\u001b[0m \u001b[32m1.0/1.0 MB\u001b[0m \u001b[31m24.1 MB/s\u001b[0m eta \u001b[36m0:00:00\u001b[0m:00:01\u001b[0m\n\u001b[?25hCollecting dask[complete]<=2023.2.0\n  Downloading dask-2023.2.0-py3-none-any.whl (1.2 MB)\n\u001b[2K     \u001b[90m━━━━━━━━━━━━━━━━━━━━━━━━━━━━━━━━━━━━━━━━\u001b[0m \u001b[32m1.2/1.2 MB\u001b[0m \u001b[31m18.3 MB/s\u001b[0m eta \u001b[36m0:00:00\u001b[0m:00:01\u001b[0m\n\u001b[?25hCollecting bokeh<3.0.0\n  Downloading bokeh-2.4.3-py3-none-any.whl (18.5 MB)\n\u001b[2K     \u001b[90m━━━━━━━━━━━━━━━━━━━━━━━━━━━━━━━━━━━━━━━━\u001b[0m \u001b[32m18.5/18.5 MB\u001b[0m \u001b[31m26.3 MB/s\u001b[0m eta \u001b[36m0:00:00\u001b[0m00:01\u001b[0m00:01\u001b[0m\n\u001b[?25hRequirement already satisfied: websocket-client>=0.32.0 in /anaconda/envs/jupyter_env/lib/python3.8/site-packages (from docker<8.0.0->azureml-core~=1.56.0->azureml-sdk[automl,explain,notebooks,train]) (1.6.0)\nRequirement already satisfied: nest-asyncio in /anaconda/envs/jupyter_env/lib/python3.8/site-packages (from ipykernel->azureml-contrib-notebook~=1.56.0->azureml-sdk[automl,explain,notebooks,train]) (1.5.6)\nRequirement already satisfied: debugpy<2.0,>=1.0.0 in /anaconda/envs/jupyter_env/lib/python3.8/site-packages (from ipykernel->azureml-contrib-notebook~=1.56.0->azureml-sdk[automl,explain,notebooks,train]) (1.6.7)\nRequirement already satisfied: traitlets<6.0,>=5.1.0 in /anaconda/envs/jupyter_env/lib/python3.8/site-packages (from ipykernel->azureml-contrib-notebook~=1.56.0->azureml-sdk[automl,explain,notebooks,train]) (5.9.0)\nRequirement already satisfied: tornado<7.0,>=4.2 in /anaconda/envs/jupyter_env/lib/python3.8/site-packages (from ipykernel->azureml-contrib-notebook~=1.56.0->azureml-sdk[automl,explain,notebooks,train]) (6.3.2)\nRequirement already satisfied: matplotlib-inline<0.2.0,>=0.1.0 in /anaconda/envs/jupyter_env/lib/python3.8/site-packages (from ipykernel->azureml-contrib-notebook~=1.56.0->azureml-sdk[automl,explain,notebooks,train]) (0.1.6)\nRequirement already satisfied: jedi>=0.16 in /anaconda/envs/jupyter_env/lib/python3.8/site-packages (from ipython->azureml-contrib-notebook~=1.56.0->azureml-sdk[automl,explain,notebooks,train]) (0.18.2)\nRequirement already satisfied: stack-data in /anaconda/envs/jupyter_env/lib/python3.8/site-packages (from ipython->azureml-contrib-notebook~=1.56.0->azureml-sdk[automl,explain,notebooks,train]) (0.6.2)\nRequirement already satisfied: prompt-toolkit!=3.0.37,<3.1.0,>=3.0.30 in /anaconda/envs/jupyter_env/lib/python3.8/site-packages (from ipython->azureml-contrib-notebook~=1.56.0->azureml-sdk[automl,explain,notebooks,train]) (3.0.38)\nRequirement already satisfied: pexpect>4.3 in /anaconda/envs/jupyter_env/lib/python3.8/site-packages (from ipython->azureml-contrib-notebook~=1.56.0->azureml-sdk[automl,explain,notebooks,train]) (4.8.0)\nRequirement already satisfied: pygments>=2.4.0 in /anaconda/envs/jupyter_env/lib/python3.8/site-packages (from ipython->azureml-contrib-notebook~=1.56.0->azureml-sdk[automl,explain,notebooks,train]) (2.15.1)\nRequirement already satisfied: backcall in /anaconda/envs/jupyter_env/lib/python3.8/site-packages (from ipython->azureml-contrib-notebook~=1.56.0->azureml-sdk[automl,explain,notebooks,train]) (0.2.0)\nRequirement already satisfied: decorator in /anaconda/envs/jupyter_env/lib/python3.8/site-packages (from ipython->azureml-contrib-notebook~=1.56.0->azureml-sdk[automl,explain,notebooks,train]) (5.1.1)\nRequirement already satisfied: pickleshare in /anaconda/envs/jupyter_env/lib/python3.8/site-packages (from ipython->azureml-contrib-notebook~=1.56.0->azureml-sdk[automl,explain,notebooks,train]) (0.7.5)\nRequirement already satisfied: widgetsnbextension~=3.6.4 in /anaconda/envs/jupyter_env/lib/python3.8/site-packages (from ipywidgets<8.0.0,>=7.0.0->azureml-widgets~=1.56.0->azureml-sdk[automl,explain,notebooks,train]) (3.6.4)\nRequirement already satisfied: jupyterlab-widgets<3,>=1.0.0 in /anaconda/envs/jupyter_env/lib/python3.8/site-packages (from ipywidgets<8.0.0,>=7.0.0->azureml-widgets~=1.56.0->azureml-sdk[automl,explain,notebooks,train]) (1.1.1)\nRequirement already satisfied: ipython-genutils~=0.2.0 in /anaconda/envs/jupyter_env/lib/python3.8/site-packages (from ipywidgets<8.0.0,>=7.0.0->azureml-widgets~=1.56.0->azureml-sdk[automl,explain,notebooks,train]) (0.2.0)\nCollecting entrypoints\n  Downloading entrypoints-0.4-py3-none-any.whl (5.3 kB)\nRequirement already satisfied: pyzmq>=23.0 in /anaconda/envs/jupyter_env/lib/python3.8/site-packages (from jupyter-client<8->azureml-contrib-notebook~=1.56.0->azureml-sdk[automl,explain,notebooks,train]) (25.1.0)\nRequirement already satisfied: jupyter-core>=4.9.2 in /anaconda/envs/jupyter_env/lib/python3.8/site-packages (from jupyter-client<8->azureml-contrib-notebook~=1.56.0->azureml-sdk[automl,explain,notebooks,train]) (5.3.1)\nRequirement already satisfied: tabulate in /anaconda/envs/jupyter_env/lib/python3.8/site-packages (from knack<0.12.0->azureml-core~=1.56.0->azureml-sdk[automl,explain,notebooks,train]) (0.9.0)\nRequirement already satisfied: portalocker<3,>=1.0 in /anaconda/envs/jupyter_env/lib/python3.8/site-packages (from msal-extensions<=2.0.0,>=0.3.0->azureml-core~=1.56.0->azureml-sdk[automl,explain,notebooks,train]) (2.7.0)\nRequirement already satisfied: certifi>=2017.4.17 in /anaconda/envs/jupyter_env/lib/python3.8/site-packages (from msrest<=0.7.1,>=0.5.1->azureml-core~=1.56.0->azureml-sdk[automl,explain,notebooks,train]) (2023.5.7)\nRequirement already satisfied: requests-oauthlib>=0.5.0 in /anaconda/envs/jupyter_env/lib/python3.8/site-packages (from msrest<=0.7.1,>=0.5.1->azureml-core~=1.56.0->azureml-sdk[automl,explain,notebooks,train]) (1.3.1)\nRequirement already satisfied: jupyterlab-pygments in /anaconda/envs/jupyter_env/lib/python3.8/site-packages (from nbconvert<8->azureml-contrib-notebook~=1.56.0->azureml-sdk[automl,explain,notebooks,train]) (0.2.2)\nRequirement already satisfied: nbformat>=5.7 in /anaconda/envs/jupyter_env/lib/python3.8/site-packages (from nbconvert<8->azureml-contrib-notebook~=1.56.0->azureml-sdk[automl,explain,notebooks,train]) (5.9.0)\nRequirement already satisfied: nbclient>=0.5.0 in /anaconda/envs/jupyter_env/lib/python3.8/site-packages (from nbconvert<8->azureml-contrib-notebook~=1.56.0->azureml-sdk[automl,explain,notebooks,train]) (0.7.0)\nRequirement already satisfied: mistune<4,>=2.0.3 in /anaconda/envs/jupyter_env/lib/python3.8/site-packages (from nbconvert<8->azureml-contrib-notebook~=1.56.0->azureml-sdk[automl,explain,notebooks,train]) (2.0.5)\nRequirement already satisfied: beautifulsoup4 in /anaconda/envs/jupyter_env/lib/python3.8/site-packages (from nbconvert<8->azureml-contrib-notebook~=1.56.0->azureml-sdk[automl,explain,notebooks,train]) (4.12.2)\nRequirement already satisfied: bleach!=5.0.0 in /anaconda/envs/jupyter_env/lib/python3.8/site-packages (from nbconvert<8->azureml-contrib-notebook~=1.56.0->azureml-sdk[automl,explain,notebooks,train]) (6.0.0)\nRequirement already satisfied: tinycss2 in /anaconda/envs/jupyter_env/lib/python3.8/site-packages (from nbconvert<8->azureml-contrib-notebook~=1.56.0->azureml-sdk[automl,explain,notebooks,train]) (1.2.1)\nRequirement already satisfied: importlib-metadata>=3.6 in /anaconda/envs/jupyter_env/lib/python3.8/site-packages (from nbconvert<8->azureml-contrib-notebook~=1.56.0->azureml-sdk[automl,explain,notebooks,train]) (6.7.0)\nRequirement already satisfied: defusedxml in /anaconda/envs/jupyter_env/lib/python3.8/site-packages (from nbconvert<8->azureml-contrib-notebook~=1.56.0->azureml-sdk[automl,explain,notebooks,train]) (0.7.1)\nRequirement already satisfied: pandocfilters>=1.4.1 in /anaconda/envs/jupyter_env/lib/python3.8/site-packages (from nbconvert<8->azureml-contrib-notebook~=1.56.0->azureml-sdk[automl,explain,notebooks,train]) (1.5.0)\nRequirement already satisfied: pyasn1>=0.1.1 in /anaconda/envs/jupyter_env/lib/python3.8/site-packages (from ndg-httpsclient<=0.5.1->azureml-core~=1.56.0->azureml-sdk[automl,explain,notebooks,train]) (0.5.0)\nCollecting tqdm>=4.32.2\n  Downloading tqdm-4.66.4-py3-none-any.whl (78 kB)\n\u001b[2K     \u001b[90m━━━━━━━━━━━━━━━━━━━━━━━━━━━━━━━━━━━━━━━━\u001b[0m \u001b[32m78.3/78.3 kB\u001b[0m \u001b[31m3.8 MB/s\u001b[0m eta \u001b[36m0:00:00\u001b[0m\n\u001b[?25hCollecting tenacity>=5.0.2\n  Downloading tenacity-8.3.0-py3-none-any.whl (25 kB)\nRequirement already satisfied: click in /anaconda/envs/jupyter_env/lib/python3.8/site-packages (from papermill<3->azureml-contrib-notebook~=1.56.0->azureml-sdk[automl,explain,notebooks,train]) (8.1.3)\nCollecting ansicolors\n  Downloading ansicolors-1.1.8-py2.py3-none-any.whl (13 kB)\nRequirement already satisfied: bcrypt>=3.2 in /anaconda/envs/jupyter_env/lib/python3.8/site-packages (from paramiko<4.0.0,>=2.0.8->azureml-core~=1.56.0->azureml-sdk[automl,explain,notebooks,train]) (4.0.1)\nRequirement already satisfied: pynacl>=1.5 in /anaconda/envs/jupyter_env/lib/python3.8/site-packages (from paramiko<4.0.0,>=2.0.8->azureml-core~=1.56.0->azureml-sdk[automl,explain,notebooks,train]) (1.5.0)\nRequirement already satisfied: idna<4,>=2.5 in /anaconda/envs/jupyter_env/lib/python3.8/site-packages (from requests[socks]<3.0.0,>=2.19.1->azureml-core~=1.56.0->azureml-sdk[automl,explain,notebooks,train]) (3.4)\nRequirement already satisfied: charset-normalizer<4,>=2 in /anaconda/envs/jupyter_env/lib/python3.8/site-packages (from requests[socks]<3.0.0,>=2.19.1->azureml-core~=1.56.0->azureml-sdk[automl,explain,notebooks,train]) (3.1.0)\nRequirement already satisfied: PySocks!=1.5.7,>=1.5.6 in /anaconda/envs/jupyter_env/lib/python3.8/site-packages (from requests[socks]<3.0.0,>=2.19.1->azureml-core~=1.56.0->azureml-sdk[automl,explain,notebooks,train]) (1.7.1)\nRequirement already satisfied: jeepney>=0.6 in /anaconda/envs/jupyter_env/lib/python3.8/site-packages (from SecretStorage<4.0.0->azureml-core~=1.56.0->azureml-sdk[automl,explain,notebooks,train]) (0.8.0)\nRequirement already satisfied: backports.weakref in /anaconda/envs/jupyter_env/lib/python3.8/site-packages (from backports.tempfile->azureml-core~=1.56.0->azureml-sdk[automl,explain,notebooks,train]) (1.0.post1)\nCollecting property-cached>=1.6.4\n  Downloading property_cached-1.6.4-py2.py3-none-any.whl (7.8 kB)\nCollecting msal<2.0.0,>=1.15.0\n  Downloading msal-1.28.0-py3-none-any.whl (102 kB)\n\u001b[2K     \u001b[90m━━━━━━━━━━━━━━━━━━━━━━━━━━━━━━━━━━━━━━━\u001b[0m \u001b[32m102.2/102.2 kB\u001b[0m \u001b[31m5.3 MB/s\u001b[0m eta \u001b[36m0:00:00\u001b[0m\n\u001b[?25hCollecting azure-core<2.0.0\n  Downloading azure_core-1.30.1-py3-none-any.whl (193 kB)\n\u001b[2K     \u001b[90m━━━━━━━━━━━━━━━━━━━━━━━━━━━━━━━━━━━━━━━\u001b[0m \u001b[32m193.4/193.4 kB\u001b[0m \u001b[31m7.1 MB/s\u001b[0m eta \u001b[36m0:00:00\u001b[0m\n\u001b[?25hCollecting mlflow-skinny\n  Downloading mlflow_skinny-2.12.2-py3-none-any.whl (5.1 MB)\n\u001b[2K     \u001b[90m━━━━━━━━━━━━━━━━━━━━━━━━━━━━━━━━━━━━━━━━\u001b[0m \u001b[32m5.1/5.1 MB\u001b[0m \u001b[31m46.4 MB/s\u001b[0m eta \u001b[36m0:00:00\u001b[0m:00:01\u001b[0m00:01\u001b[0m\n\u001b[?25hRequirement already satisfied: webencodings in /anaconda/envs/jupyter_env/lib/python3.8/site-packages (from bleach!=5.0.0->nbconvert<8->azureml-contrib-notebook~=1.56.0->azureml-sdk[automl,explain,notebooks,train]) (0.5.1)\nRequirement already satisfied: pillow>=7.1.0 in /anaconda/envs/jupyter_env/lib/python3.8/site-packages (from bokeh<3.0.0->azureml-train-automl-runtime~=1.56.0->azureml-train-automl~=1.56.0->azureml-sdk[automl,explain,notebooks,train]) (9.5.0)\nCollecting s3transfer<0.6.0,>=0.5.0\n  Downloading s3transfer-0.5.2-py3-none-any.whl (79 kB)\n\u001b[2K     \u001b[90m━━━━━━━━━━━━━━━━━━━━━━━━━━━━━━━━━━━━━━━━\u001b[0m \u001b[32m79.5/79.5 kB\u001b[0m \u001b[31m3.9 MB/s\u001b[0m eta \u001b[36m0:00:00\u001b[0m\n\u001b[?25hCollecting jmespath<2.0.0\n  Downloading jmespath-0.10.0-py2.py3-none-any.whl (24 kB)\nRequirement already satisfied: cffi>=1.12 in /anaconda/envs/jupyter_env/lib/python3.8/site-packages (from cryptography>=1.1.0->adal<=1.2.7,>=1.2.0->azureml-core~=1.56.0->azureml-sdk[automl,explain,notebooks,train]) (1.15.1)\nCollecting fsspec>=0.6.0\n  Downloading fsspec-2024.3.1-py3-none-any.whl (171 kB)\n\u001b[2K     \u001b[90m━━━━━━━━━━━━━━━━━━━━━━━━━━━━━━━━━━━━━━━\u001b[0m \u001b[32m172.0/172.0 kB\u001b[0m \u001b[31m6.7 MB/s\u001b[0m eta \u001b[36m0:00:00\u001b[0m\n\u001b[?25hCollecting toolz>=0.8.2\n  Downloading toolz-0.12.1-py3-none-any.whl (56 kB)\n\u001b[2K     \u001b[90m━━━━━━━━━━━━━━━━━━━━━━━━━━━━━━━━━━━━━━━━\u001b[0m \u001b[32m56.1/56.1 kB\u001b[0m \u001b[31m3.2 MB/s\u001b[0m eta \u001b[36m0:00:00\u001b[0m\n\u001b[?25hCollecting partd>=0.3.10\n  Downloading partd-1.4.1-py3-none-any.whl (18 kB)\nCollecting distributed==2023.2.0\n  Downloading distributed-2023.2.0-py3-none-any.whl (934 kB)\n\u001b[2K     \u001b[90m━━━━━━━━━━━━━━━━━━━━━━━━━━━━━━━━━━━━━━\u001b[0m \u001b[32m934.8/934.8 kB\u001b[0m \u001b[31m16.6 MB/s\u001b[0m eta \u001b[36m0:00:00\u001b[0m00:01\u001b[0m\n\u001b[?25hCollecting zict>=2.1.0\n  Downloading zict-3.0.0-py2.py3-none-any.whl (43 kB)\n\u001b[2K     \u001b[90m━━━━━━━━━━━━━━━━━━━━━━━━━━━━━━━━━━━━━━━━\u001b[0m \u001b[32m43.3/43.3 kB\u001b[0m \u001b[31m2.1 MB/s\u001b[0m eta \u001b[36m0:00:00\u001b[0m\n\u001b[?25hRequirement already satisfied: msgpack>=1.0.0 in /anaconda/envs/jupyter_env/lib/python3.8/site-packages (from distributed==2023.2.0->dask[complete]<=2023.2.0->azureml-train-automl-runtime~=1.56.0->azureml-train-automl~=1.56.0->azureml-sdk[automl,explain,notebooks,train]) (1.0.5)\nCollecting locket>=1.0.0\n  Downloading locket-1.0.0-py2.py3-none-any.whl (4.4 kB)\nCollecting tblib>=1.6.0\n  Downloading tblib-3.0.0-py3-none-any.whl (12 kB)\nCollecting sortedcontainers>=2.0.5\n  Downloading sortedcontainers-2.4.0-py2.py3-none-any.whl (29 kB)\nRequirement already satisfied: distro>=1.2.0 in /anaconda/envs/jupyter_env/lib/python3.8/site-packages (from dotnetcore2<4.0.0,>=3.0.0->azureml-automl-runtime~=1.56.0->azureml-train-automl~=1.56.0->azureml-sdk[automl,explain,notebooks,train]) (1.8.0)\nRequirement already satisfied: zipp>=0.5 in /anaconda/envs/jupyter_env/lib/python3.8/site-packages (from importlib-metadata>=3.6->nbconvert<8->azureml-contrib-notebook~=1.56.0->azureml-sdk[automl,explain,notebooks,train]) (3.15.0)\nRequirement already satisfied: parso<0.9.0,>=0.8.0 in /anaconda/envs/jupyter_env/lib/python3.8/site-packages (from jedi>=0.16->ipython->azureml-contrib-notebook~=1.56.0->azureml-sdk[automl,explain,notebooks,train]) (0.8.3)\nRequirement already satisfied: platformdirs>=2.5 in /anaconda/envs/jupyter_env/lib/python3.8/site-packages (from jupyter-core>=4.9.2->jupyter-client<8->azureml-contrib-notebook~=1.56.0->azureml-sdk[automl,explain,notebooks,train]) (3.7.0)\nCollecting fire\n  Downloading fire-0.6.0.tar.gz (88 kB)\n\u001b[2K     \u001b[90m━━━━━━━━━━━━━━━━━━━━━━━━━━━━━━━━━━━━━━━━\u001b[0m \u001b[32m88.4/88.4 kB\u001b[0m \u001b[31m5.4 MB/s\u001b[0m eta \u001b[36m0:00:00\u001b[0m\n\u001b[?25h  Preparing metadata (setup.py) ... \u001b[?25l-\b \bdone\n\u001b[?25hRequirement already satisfied: wheel in /anaconda/envs/jupyter_env/lib/python3.8/site-packages (from lightgbm<=3.2.1,>=3.0.0->azureml-automl-runtime~=1.56.0->azureml-train-automl~=1.56.0->azureml-sdk[automl,explain,notebooks,train]) (0.37.1)\nRequirement already satisfied: fastjsonschema in /anaconda/envs/jupyter_env/lib/python3.8/site-packages (from nbformat>=5.7->nbconvert<8->azureml-contrib-notebook~=1.56.0->azureml-sdk[automl,explain,notebooks,train]) (2.17.1)\nRequirement already satisfied: pkgutil-resolve-name>=1.3.10 in /anaconda/envs/jupyter_env/lib/python3.8/site-packages (from jsonschema->azureml-dataprep<5.2.0a,>=5.1.0a->azureml-dataset-runtime[fuse]~=1.56.0->azureml-sdk[automl,explain,notebooks,train]) (1.3.10)\nRequirement already satisfied: attrs>=17.4.0 in /anaconda/envs/jupyter_env/lib/python3.8/site-packages (from jsonschema->azureml-dataprep<5.2.0a,>=5.1.0a->azureml-dataset-runtime[fuse]~=1.56.0->azureml-sdk[automl,explain,notebooks,train]) (23.1.0)\nRequirement already satisfied: importlib-resources>=1.4.0 in /anaconda/envs/jupyter_env/lib/python3.8/site-packages (from jsonschema->azureml-dataprep<5.2.0a,>=5.1.0a->azureml-dataset-runtime[fuse]~=1.56.0->azureml-sdk[automl,explain,notebooks,train]) (5.12.0)\nRequirement already satisfied: pyrsistent!=0.17.0,!=0.17.1,!=0.17.2,>=0.14.0 in /anaconda/envs/jupyter_env/lib/python3.8/site-packages (from jsonschema->azureml-dataprep<5.2.0a,>=5.1.0a->azureml-dataset-runtime[fuse]~=1.56.0->azureml-sdk[automl,explain,notebooks,train]) (0.19.3)\nCollecting llvmlite<0.40,>=0.39.0dev0\n  Downloading llvmlite-0.39.1-cp38-cp38-manylinux_2_17_x86_64.manylinux2014_x86_64.whl (34.6 MB)\n\u001b[2K     \u001b[90m━━━━━━━━━━━━━━━━━━━━━━━━━━━━━━━━━━━━━━━━\u001b[0m \u001b[32m34.6/34.6 MB\u001b[0m \u001b[31m11.7 MB/s\u001b[0m eta \u001b[36m0:00:00\u001b[0m00:01\u001b[0m00:01\u001b[0m\n\u001b[?25hCollecting coloredlogs\n  Downloading coloredlogs-15.0.1-py2.py3-none-any.whl (46 kB)\n\u001b[2K     \u001b[90m━━━━━━━━━━━━━━━━━━━━━━━━━━━━━━━━━━━━━━━\u001b[0m \u001b[32m46.0/46.0 kB\u001b[0m \u001b[31m174.4 kB/s\u001b[0m eta \u001b[36m0:00:00\u001b[0ma \u001b[36m0:00:01\u001b[0m\n\u001b[?25hCollecting flatbuffers\n  Downloading flatbuffers-24.3.25-py2.py3-none-any.whl (26 kB)\nCollecting sympy\n  Downloading sympy-1.12-py3-none-any.whl (5.7 MB)\n\u001b[2K     \u001b[90m━━━━━━━━━━━━━━━━━━━━━━━━━━━━━━━━━━━━━━━━\u001b[0m \u001b[32m5.7/5.7 MB\u001b[0m \u001b[31m34.4 MB/s\u001b[0m eta \u001b[36m0:00:00\u001b[0m:00:01\u001b[0m00:01\u001b[0m\n\u001b[?25hRequirement already satisfied: ptyprocess>=0.5 in /anaconda/envs/jupyter_env/lib/python3.8/site-packages (from pexpect>4.3->ipython->azureml-contrib-notebook~=1.56.0->azureml-sdk[automl,explain,notebooks,train]) (0.7.0)\nRequirement already satisfied: wcwidth in /anaconda/envs/jupyter_env/lib/python3.8/site-packages (from prompt-toolkit!=3.0.37,<3.1.0,>=3.0.30->ipython->azureml-contrib-notebook~=1.56.0->azureml-sdk[automl,explain,notebooks,train]) (0.2.6)\nRequirement already satisfied: oauthlib>=3.0.0 in /anaconda/envs/jupyter_env/lib/python3.8/site-packages (from requests-oauthlib>=0.5.0->msrest<=0.7.1,>=0.5.1->azureml-core~=1.56.0->azureml-sdk[automl,explain,notebooks,train]) (3.2.2)\nCollecting boto>=2.32\n  Downloading boto-2.49.0-py2.py3-none-any.whl (1.4 MB)\n\u001b[2K     \u001b[90m━━━━━━━━━━━━━━━━━━━━━━━━━━━━━━━━━━━━━━━━\u001b[0m \u001b[32m1.4/1.4 MB\u001b[0m \u001b[31m31.6 MB/s\u001b[0m eta \u001b[36m0:00:00\u001b[0m:00:01\u001b[0m\n\u001b[?25hCollecting patsy>=0.5.2\n  Downloading patsy-0.5.6-py2.py3-none-any.whl (233 kB)\n\u001b[2K     \u001b[90m━━━━━━━━━━━━━━━━━━━━━━━━━━━━━━━━━━━━━━\u001b[0m \u001b[32m233.9/233.9 kB\u001b[0m \u001b[31m10.0 MB/s\u001b[0m eta \u001b[36m0:00:00\u001b[0m\n\u001b[?25hRequirement already satisfied: notebook>=4.4.1 in /anaconda/envs/jupyter_env/lib/python3.8/site-packages (from widgetsnbextension~=3.6.4->ipywidgets<8.0.0,>=7.0.0->azureml-widgets~=1.56.0->azureml-sdk[automl,explain,notebooks,train]) (6.5.4)\nRequirement already satisfied: soupsieve>1.2 in /anaconda/envs/jupyter_env/lib/python3.8/site-packages (from beautifulsoup4->nbconvert<8->azureml-contrib-notebook~=1.56.0->azureml-sdk[automl,explain,notebooks,train]) (2.4.1)\nRequirement already satisfied: executing>=1.2.0 in /anaconda/envs/jupyter_env/lib/python3.8/site-packages (from stack-data->ipython->azureml-contrib-notebook~=1.56.0->azureml-sdk[automl,explain,notebooks,train]) (1.2.0)\nRequirement already satisfied: pure-eval in /anaconda/envs/jupyter_env/lib/python3.8/site-packages (from stack-data->ipython->azureml-contrib-notebook~=1.56.0->azureml-sdk[automl,explain,notebooks,train]) (0.2.2)\nRequirement already satisfied: asttokens>=2.1.0 in /anaconda/envs/jupyter_env/lib/python3.8/site-packages (from stack-data->ipython->azureml-contrib-notebook~=1.56.0->azureml-sdk[automl,explain,notebooks,train]) (2.2.1)\nRequirement already satisfied: pycparser in /anaconda/envs/jupyter_env/lib/python3.8/site-packages (from cffi>=1.12->cryptography>=1.1.0->adal<=1.2.7,>=1.2.0->azureml-core~=1.56.0->azureml-sdk[automl,explain,notebooks,train]) (2.21)\nCollecting shap<=0.44.0,>=0.20.0\n  Downloading shap-0.43.0-cp38-cp38-manylinux_2_12_x86_64.manylinux2010_x86_64.manylinux_2_17_x86_64.manylinux2014_x86_64.whl (535 kB)\n\u001b[2K     \u001b[90m━━━━━━━━━━━━━━━━━━━━━━━━━━━━━━━━━━━━━━\u001b[0m \u001b[32m535.7/535.7 kB\u001b[0m \u001b[31m16.6 MB/s\u001b[0m eta \u001b[36m0:00:00\u001b[0m\n\u001b[?25hCollecting sparse\n  Downloading sparse-0.15.1-py2.py3-none-any.whl (116 kB)\n\u001b[2K     \u001b[90m━━━━━━━━━━━━━━━━━━━━━━━━━━━━━━━━━━━━━━━\u001b[0m \u001b[32m116.3/116.3 kB\u001b[0m \u001b[31m6.7 MB/s\u001b[0m eta \u001b[36m0:00:00\u001b[0m\n\u001b[?25hRequirement already satisfied: prometheus-client in /anaconda/envs/jupyter_env/lib/python3.8/site-packages (from notebook>=4.4.1->widgetsnbextension~=3.6.4->ipywidgets<8.0.0,>=7.0.0->azureml-widgets~=1.56.0->azureml-sdk[automl,explain,notebooks,train]) (0.17.0)\nRequirement already satisfied: Send2Trash>=1.8.0 in /anaconda/envs/jupyter_env/lib/python3.8/site-packages (from notebook>=4.4.1->widgetsnbextension~=3.6.4->ipywidgets<8.0.0,>=7.0.0->azureml-widgets~=1.56.0->azureml-sdk[automl,explain,notebooks,train]) (1.8.2)\nRequirement already satisfied: terminado>=0.8.3 in /anaconda/envs/jupyter_env/lib/python3.8/site-packages (from notebook>=4.4.1->widgetsnbextension~=3.6.4->ipywidgets<8.0.0,>=7.0.0->azureml-widgets~=1.56.0->azureml-sdk[automl,explain,notebooks,train]) (0.17.1)\nRequirement already satisfied: nbclassic>=0.4.7 in /anaconda/envs/jupyter_env/lib/python3.8/site-packages (from notebook>=4.4.1->widgetsnbextension~=3.6.4->ipywidgets<8.0.0,>=7.0.0->azureml-widgets~=1.56.0->azureml-sdk[automl,explain,notebooks,train]) (0.5.6)\nRequirement already satisfied: argon2-cffi in /anaconda/envs/jupyter_env/lib/python3.8/site-packages (from notebook>=4.4.1->widgetsnbextension~=3.6.4->ipywidgets<8.0.0,>=7.0.0->azureml-widgets~=1.56.0->azureml-sdk[automl,explain,notebooks,train]) (21.3.0)\nCollecting slicer==0.0.7\n  Downloading slicer-0.0.7-py3-none-any.whl (14 kB)\nCollecting termcolor\n  Downloading termcolor-2.4.0-py3-none-any.whl (7.7 kB)\nCollecting sqlparse<1,>=0.4.0\n  Downloading sqlparse-0.5.0-py3-none-any.whl (43 kB)\n\u001b[2K     \u001b[90m━━━━━━━━━━━━━━━━━━━━━━━━━━━━━━━━━━━━━━━━\u001b[0m \u001b[32m44.0/44.0 kB\u001b[0m \u001b[31m2.2 MB/s\u001b[0m eta \u001b[36m0:00:00\u001b[0m\n\u001b[?25hCollecting gitpython<4,>=3.1.9\n  Downloading GitPython-3.1.43-py3-none-any.whl (207 kB)\n\u001b[2K     \u001b[90m━━━━━━━━━━━━━━━━━━━━━━━━━━━━━━━━━━━━━━\u001b[0m \u001b[32m207.3/207.3 kB\u001b[0m \u001b[31m10.7 MB/s\u001b[0m eta \u001b[36m0:00:00\u001b[0m\n\u001b[?25hCollecting mpmath>=0.19\n  Downloading mpmath-1.3.0-py3-none-any.whl (536 kB)\n\u001b[2K     \u001b[90m━━━━━━━━━━━━━━━━━━━━━━━━━━━━━━━━━━━━━━\u001b[0m \u001b[32m536.2/536.2 kB\u001b[0m \u001b[31m19.5 MB/s\u001b[0m eta \u001b[36m0:00:00\u001b[0m\n\u001b[?25hCollecting gitdb<5,>=4.0.1\n  Downloading gitdb-4.0.11-py3-none-any.whl (62 kB)\n\u001b[2K     \u001b[90m━━━━━━━━━━━━━━━━━━━━━━━━━━━━━━━━━━━━━━━━\u001b[0m \u001b[32m62.7/62.7 kB\u001b[0m \u001b[31m3.3 MB/s\u001b[0m eta \u001b[36m0:00:00\u001b[0m\n\u001b[?25hRequirement already satisfied: notebook-shim>=0.2.3 in /anaconda/envs/jupyter_env/lib/python3.8/site-packages (from nbclassic>=0.4.7->notebook>=4.4.1->widgetsnbextension~=3.6.4->ipywidgets<8.0.0,>=7.0.0->azureml-widgets~=1.56.0->azureml-sdk[automl,explain,notebooks,train]) (0.2.3)\nRequirement already satisfied: jupyter-server>=1.8 in /anaconda/envs/jupyter_env/lib/python3.8/site-packages (from nbclassic>=0.4.7->notebook>=4.4.1->widgetsnbextension~=3.6.4->ipywidgets<8.0.0,>=7.0.0->azureml-widgets~=1.56.0->azureml-sdk[automl,explain,notebooks,train]) (1.21.0)\nRequirement already satisfied: argon2-cffi-bindings in /anaconda/envs/jupyter_env/lib/python3.8/site-packages (from argon2-cffi->notebook>=4.4.1->widgetsnbextension~=3.6.4->ipywidgets<8.0.0,>=7.0.0->azureml-widgets~=1.56.0->azureml-sdk[automl,explain,notebooks,train]) (21.2.0)\nCollecting smmap<6,>=3.0.1\n  Downloading smmap-5.0.1-py3-none-any.whl (24 kB)\nRequirement already satisfied: anyio<4,>=3.1.0 in /anaconda/envs/jupyter_env/lib/python3.8/site-packages (from jupyter-server>=1.8->nbclassic>=0.4.7->notebook>=4.4.1->widgetsnbextension~=3.6.4->ipywidgets<8.0.0,>=7.0.0->azureml-widgets~=1.56.0->azureml-sdk[automl,explain,notebooks,train]) (3.7.0)\nRequirement already satisfied: sniffio>=1.1 in /anaconda/envs/jupyter_env/lib/python3.8/site-packages (from anyio<4,>=3.1.0->jupyter-server>=1.8->nbclassic>=0.4.7->notebook>=4.4.1->widgetsnbextension~=3.6.4->ipywidgets<8.0.0,>=7.0.0->azureml-widgets~=1.56.0->azureml-sdk[automl,explain,notebooks,train]) (1.3.0)\nRequirement already satisfied: exceptiongroup in /anaconda/envs/jupyter_env/lib/python3.8/site-packages (from anyio<4,>=3.1.0->jupyter-server>=1.8->nbclassic>=0.4.7->notebook>=4.4.1->widgetsnbextension~=3.6.4->ipywidgets<8.0.0,>=7.0.0->azureml-widgets~=1.56.0->azureml-sdk[automl,explain,notebooks,train]) (1.1.1)\nBuilding wheels for collected packages: fusepy, smart-open, fire\n  Building wheel for fusepy (setup.py) ... \u001b[?25l-\b \b\\\b \b|\b \bdone\n\u001b[?25h  Created wheel for fusepy: filename=fusepy-3.0.1-py3-none-any.whl size=10486 sha256=809dba7a8426599162c9ca7562efb2a3f0304bc8724898a2b59a574dded41855\n  Stored in directory: /home/azureuser/.cache/pip/wheels/db/01/ee/105147547cf0ecd1031b26901757e1f17c98902c8cc7bcaa47\n  Building wheel for smart-open (setup.py) ... \u001b[?25l-\b \b\\\b \bdone\n\u001b[?25h  Created wheel for smart-open: filename=smart_open-1.9.0-py3-none-any.whl size=73091 sha256=0d9a498b13689c9796a0101d73e4c1a6a07e44d4ca960839f824945b6a4b5cf9\n  Stored in directory: /home/azureuser/.cache/pip/wheels/6c/fb/4f/f8e61ba68ae4d8e5d95fbd01d3e6f289d5aca23a1844560499\n  Building wheel for fire (setup.py) ... \u001b[?25l-\b \b\\\b \b|\b \bdone\n\u001b[?25h  Created wheel for fire: filename=fire-0.6.0-py2.py3-none-any.whl size=117031 sha256=8d3ac824a3c07536cc995d5bf2e99e65e1bd3669a0bef5cb27160adebaa9ab48\n  Stored in directory: /home/azureuser/.cache/pip/wheels/c4/b4/a5/23c273c537800e429314cea29b8fcf83173e3ba9e6aa4cbff8\nSuccessfully built fusepy smart-open fire\nInstalling collected packages: sortedcontainers, mpmath, fusepy, flatbuffers, dataclasses, boto, azureml-dataprep-rslex, azureml-dataprep-native, ansicolors, zict, urllib3, tqdm, toolz, threadpoolctl, termcolor, tenacity, tblib, sympy, sqlparse, smmap, slicer, semver, psutil, protobuf, property-cached, numpy, networkx, locket, llvmlite, joblib, jmespath, fsspec, entrypoints, dill, Cython, coloredlogs, pyarrow, patsy, partd, pandas, onnxruntime, onnx, numba, jupyter-client, gitdb, fire, botocore, bokeh, statsmodels, sparse, scikit-learn, s3transfer, onnxconverter-common, gitpython, dask, azure-core, sklearn-pandas, skl2onnx, shap, raiutils, pmdarima, msal, mlflow-skinny, ml-wrappers, lightgbm, keras2onnx, ipykernel, interpret-core, fairlearn, distributed, boto3, azure-storage-queue, arch, smart-open, papermill, onnxmltools, interpret-community, erroranalysis, econml, dice-ml, azure-mgmt-network, responsibleai, gensim, azureml-train-restclients-hyperdrive, azure-identity, azureml-mlflow, azureml-dataprep, azureml-core, azureml-telemetry, azureml-pipeline-core, azureml-interpret, azureml-dataset-runtime, azureml-train-core, azureml-responsibleai, azureml-explain-model, azureml-contrib-notebook, azureml-automl-core, azureml-training-tabular, azureml-train-automl-client, azureml-pipeline-steps, azureml-automl-runtime, azureml-widgets, azureml-train-automl-runtime, azureml-pipeline, azureml-train-automl, azureml-sdk\n  Attempting uninstall: urllib3\n    Found existing installation: urllib3 1.26.16\n    Uninstalling urllib3-1.26.16:\n      Successfully uninstalled urllib3-1.26.16\n  Attempting uninstall: psutil\n    Found existing installation: psutil 5.9.5\n    Uninstalling psutil-5.9.5:\n      Successfully uninstalled psutil-5.9.5\n  Attempting uninstall: protobuf\n    Found existing installation: protobuf 4.23.3\n    Uninstalling protobuf-4.23.3:\n      Successfully uninstalled protobuf-4.23.3\n  Attempting uninstall: numpy\n    Found existing installation: numpy 1.24.3\n    Uninstalling numpy-1.24.3:\n      Successfully uninstalled numpy-1.24.3\n  Attempting uninstall: networkx\n    Found existing installation: networkx 3.1\n    Uninstalling networkx-3.1:\n      Successfully uninstalled networkx-3.1\n  Attempting uninstall: jmespath\n    Found existing installation: jmespath 1.0.1\n    Uninstalling jmespath-1.0.1:\n      Successfully uninstalled jmespath-1.0.1\n  Attempting uninstall: pyarrow\n    Found existing installation: pyarrow 12.0.1\n    Uninstalling pyarrow-12.0.1:\n      Successfully uninstalled pyarrow-12.0.1\n  Attempting uninstall: pandas\n    Found existing installation: pandas 2.0.2\n    Uninstalling pandas-2.0.2:\n      Successfully uninstalled pandas-2.0.2\n  Attempting uninstall: jupyter-client\n    Found existing installation: jupyter_client 8.2.0\n    Uninstalling jupyter_client-8.2.0:\n      Successfully uninstalled jupyter_client-8.2.0\n  Attempting uninstall: bokeh\n    Found existing installation: bokeh 3.1.1\n    Uninstalling bokeh-3.1.1:\n      Successfully uninstalled bokeh-3.1.1\n  Attempting uninstall: azure-core\n    Found existing installation: azure-core 1.27.1\n    Uninstalling azure-core-1.27.1:\n      Successfully uninstalled azure-core-1.27.1\n  Attempting uninstall: msal\n    Found existing installation: msal 1.22.0\n    Uninstalling msal-1.22.0:\n      Successfully uninstalled msal-1.22.0\n  Attempting uninstall: ipykernel\n    Found existing installation: ipykernel 6.20.2\n    Uninstalling ipykernel-6.20.2:\n      Successfully uninstalled ipykernel-6.20.2\n  Attempting uninstall: smart-open\n    Found existing installation: smart-open 6.3.0\n    Uninstalling smart-open-6.3.0:\n      Successfully uninstalled smart-open-6.3.0\n  Attempting uninstall: azureml-core\n    Found existing installation: azureml-core 1.51.0.post1\n    Uninstalling azureml-core-1.51.0.post1:\n      Successfully uninstalled azureml-core-1.51.0.post1\n  Attempting uninstall: azureml-telemetry\n    Found existing installation: azureml-telemetry 1.51.0\n    Uninstalling azureml-telemetry-1.51.0:\n      Successfully uninstalled azureml-telemetry-1.51.0\n  Attempting uninstall: azureml-widgets\n    Found existing installation: azureml-widgets 1.51.0\n    Uninstalling azureml-widgets-1.51.0:\n      Successfully uninstalled azureml-widgets-1.51.0\n\u001b[31mERROR: pip's dependency resolver does not currently take into account all the packages that are installed. This behaviour is the source of the following dependency conflicts.\ntensorboardx 2.6.1 requires protobuf>=4.22.3, but you have protobuf 3.20.3 which is incompatible.\nscikit-image 0.21.0 requires networkx>=2.8, but you have networkx 2.5 which is incompatible.\njupyter-console 6.6.3 requires ipykernel>=6.14, but you have ipykernel 6.8.0 which is incompatible.\u001b[0m\u001b[31m\n\u001b[0mSuccessfully installed Cython-3.0.10 ansicolors-1.1.8 arch-5.6.0 azure-core-1.30.1 azure-identity-1.16.0 azure-mgmt-network-25.3.0 azure-storage-queue-12.10.0 azureml-automl-core-1.56.0 azureml-automl-runtime-1.56.0 azureml-contrib-notebook-1.56.0 azureml-core-1.56.0 azureml-dataprep-5.1.6 azureml-dataprep-native-41.0.0 azureml-dataprep-rslex-2.22.2 azureml-dataset-runtime-1.56.0 azureml-explain-model-1.56.0 azureml-interpret-1.56.0 azureml-mlflow-1.56.0 azureml-pipeline-1.56.0 azureml-pipeline-core-1.56.0 azureml-pipeline-steps-1.56.0 azureml-responsibleai-1.56.0 azureml-sdk-1.56.0 azureml-telemetry-1.56.0 azureml-train-automl-1.56.0 azureml-train-automl-client-1.56.0 azureml-train-automl-runtime-1.56.0 azureml-train-core-1.56.0 azureml-train-restclients-hyperdrive-1.56.0 azureml-training-tabular-1.56.0 azureml-widgets-1.56.0 bokeh-2.4.3 boto-2.49.0 boto3-1.20.19 botocore-1.23.19 coloredlogs-15.0.1 dask-2023.2.0 dataclasses-0.6 dice-ml-0.11 dill-0.3.8 distributed-2023.2.0 econml-0.15.0 entrypoints-0.4 erroranalysis-0.5.4 fairlearn-0.7.0 fire-0.6.0 flatbuffers-24.3.25 fsspec-2024.3.1 fusepy-3.0.1 gensim-3.8.3 gitdb-4.0.11 gitpython-3.1.43 interpret-community-0.31.0 interpret-core-0.5.0 ipykernel-6.8.0 jmespath-0.10.0 joblib-1.2.0 jupyter-client-7.4.9 keras2onnx-1.6.0 lightgbm-3.2.1 llvmlite-0.39.1 locket-1.0.0 ml-wrappers-0.5.5 mlflow-skinny-2.12.2 mpmath-1.3.0 msal-1.28.0 networkx-2.5 numba-0.56.4 numpy-1.23.5 onnx-1.14.1 onnxconverter-common-1.13.0 onnxmltools-1.11.2 onnxruntime-1.14.1 pandas-1.3.5 papermill-2.6.0 partd-1.4.1 patsy-0.5.6 pmdarima-1.8.5 property-cached-1.6.4 protobuf-3.20.3 psutil-5.9.3 pyarrow-14.0.2 raiutils-0.4.2 responsibleai-0.33.0 s3transfer-0.5.2 scikit-learn-1.1.3 semver-2.13.0 shap-0.43.0 skl2onnx-1.14.1 sklearn-pandas-1.7.0 slicer-0.0.7 smart-open-1.9.0 smmap-5.0.1 sortedcontainers-2.4.0 sparse-0.15.1 sqlparse-0.5.0 statsmodels-0.13.5 sympy-1.12 tblib-3.0.0 tenacity-8.3.0 termcolor-2.4.0 threadpoolctl-3.5.0 toolz-0.12.1 tqdm-4.66.4 urllib3-1.26.18 zict-3.0.0\nNote: you may need to restart the kernel to use updated packages.\n"
        }
      ],
      "execution_count": 6,
      "metadata": {
        "jupyter": {
          "source_hidden": false,
          "outputs_hidden": false
        },
        "nteract": {
          "transient": {
            "deleting": false
          }
        },
        "gather": {
          "logged": 1715592667832
        }
      }
    },
    {
      "cell_type": "code",
      "source": [
        "from azureml.widgets import RunDetails\n",
        "from azureml.train.sklearn import SKLearn\n",
        "from azureml.train.hyperdrive.run import PrimaryMetricGoal\n",
        "from azureml.train.hyperdrive.policy import BanditPolicy\n",
        "from azureml.train.hyperdrive.sampling import RandomParameterSampling\n",
        "from azureml.train.hyperdrive.runconfig import HyperDriveConfig\n",
        "from azureml.train.hyperdrive.parameter_expressions import choice, uniform\n",
        "from azureml.core import Environment, ScriptRunConfig\n",
        "import os\n",
        "\n",
        "# Specify parameter sampler\n",
        "ps = RandomParameterSampling({'C':uniform(0.5,2.0),\n",
        "                             'max_iter': choice(50, 100, 150, 200)})\n",
        "# Specify a Policy\n",
        "policy = BanditPolicy(\n",
        "    slack_factor=0.01,\n",
        "    evaluation_interval=1, \n",
        "    delay_evaluation=5\n",
        ")\n",
        "\n",
        "if \"training\" not in os.listdir():\n",
        "    os.mkdir(\"./training\")\n",
        "\n",
        "# Setup environment for your training run\n",
        "sklearn_env = Environment.from_conda_specification(name='sklearn-env', file_path='conda_dependencies.yml')\n",
        "\n",
        "# Create a ScriptRunConfig Object to specify the configuration details of your training job\n",
        "src = ScriptRunConfig(\n",
        "    source_directory=\".\",\n",
        "    script=\"train.py\",\n",
        "    compute_target=cluster_handle,\n",
        "    environment=sklearn_env\n",
        ")\n",
        "\n",
        "# Create a HyperDriveConfig using the src object, hyperparameter sampler, and policy.\n",
        "hyperdrive_config = HyperDriveConfig(\n",
        "    run_config=src,\n",
        "    hyperparameter_sampling=ps,\n",
        "    policy=policy,\n",
        "    primary_metric_name=\"Accuracy\",\n",
        "    primary_metric_goal=PrimaryMetricGoal.MAXIMIZE,\n",
        "    max_concurrent_runs=4,\n",
        "    max_total_runs=20,\n",
        ")"
      ],
      "outputs": [],
      "execution_count": 8,
      "metadata": {
        "gather": {
          "logged": 1715592911103
        },
        "jupyter": {
          "outputs_hidden": false,
          "source_hidden": false
        },
        "nteract": {
          "transient": {
            "deleting": false
          }
        }
      }
    },
    {
      "cell_type": "code",
      "source": [
        "# Submit your hyperdrive run to the experiment and show run details with the widget.\n",
        "\n",
        "hdr = exp.submit(config=hyperdrive_config)\n",
        "hdr.wait_for_completion(show_output=True)"
      ],
      "outputs": [
        {
          "output_type": "stream",
          "name": "stdout",
          "text": "RunId: HD_38e4f328-c045-466e-8c31-54c1be849036\nWeb View: https://ml.azure.com/runs/HD_38e4f328-c045-466e-8c31-54c1be849036?wsid=/subscriptions/510b94ba-e453-4417-988b-fbdc37b55ca7/resourcegroups/aml-quickstarts-259055/workspaces/quick-starts-ws-259055&tid=660b3398-b80e-49d2-bc5b-ac1dc93b5254\n\nStreaming azureml-logs/hyperdrive.txt\n=====================================\n\n[2024-05-13T09:35:33.857180][GENERATOR][INFO]Trying to sample '4' jobs from the hyperparameter space\n[2024-05-13T09:35:34.3074406Z][SCHEDULER][INFO]Scheduling job, id='HD_38e4f328-c045-466e-8c31-54c1be849036_0' \n[2024-05-13T09:35:34.4144287Z][SCHEDULER][INFO]Scheduling job, id='HD_38e4f328-c045-466e-8c31-54c1be849036_1' \n[2024-05-13T09:35:34.5364476Z][SCHEDULER][INFO]Scheduling job, id='HD_38e4f328-c045-466e-8c31-54c1be849036_2' \n[2024-05-13T09:35:34.599083][GENERATOR][INFO]Successfully sampled '4' jobs, they will soon be submitted to the execution target.\n[2024-05-13T09:35:34.6319662Z][SCHEDULER][INFO]Scheduling job, id='HD_38e4f328-c045-466e-8c31-54c1be849036_3' \n[2024-05-13T09:35:35.0734837Z][SCHEDULER][INFO]Successfully scheduled a job. Id='HD_38e4f328-c045-466e-8c31-54c1be849036_1' \n[2024-05-13T09:35:35.0981861Z][SCHEDULER][INFO]Successfully scheduled a job. Id='HD_38e4f328-c045-466e-8c31-54c1be849036_0' \n[2024-05-13T09:35:35.1309127Z][SCHEDULER][INFO]Successfully scheduled a job. Id='HD_38e4f328-c045-466e-8c31-54c1be849036_2' \n[2024-05-13T09:35:35.1290200Z][SCHEDULER][INFO]Successfully scheduled a job. Id='HD_38e4f328-c045-466e-8c31-54c1be849036_3' \n[2024-05-13T09:51:34.322487][GENERATOR][INFO]Trying to sample '1' jobs from the hyperparameter space\n[2024-05-13T09:51:34.6145833Z][SCHEDULER][INFO]Scheduling job, id='HD_38e4f328-c045-466e-8c31-54c1be849036_4' \n[2024-05-13T09:51:34.563238][GENERATOR][INFO]Successfully sampled '1' jobs, they will soon be submitted to the execution target.\n[2024-05-13T09:51:35.0809766Z][SCHEDULER][INFO]Successfully scheduled a job. Id='HD_38e4f328-c045-466e-8c31-54c1be849036_4' \n[2024-05-13T09:52:04.149997][GENERATOR][INFO]Trying to sample '1' jobs from the hyperparameter space\n[2024-05-13T09:52:04.4731036Z][SCHEDULER][INFO]Scheduling job, id='HD_38e4f328-c045-466e-8c31-54c1be849036_5' \n[2024-05-13T09:52:04.424181][GENERATOR][INFO]Successfully sampled '1' jobs, they will soon be submitted to the execution target.\n[2024-05-13T09:52:04.8692390Z][SCHEDULER][INFO]Successfully scheduled a job. Id='HD_38e4f328-c045-466e-8c31-54c1be849036_5' \n"
        }
      ],
      "execution_count": 9,
      "metadata": {}
    },
    {
      "cell_type": "code",
      "source": [
        "import joblib\n",
        "# Get your best run and save the model from that run.\n",
        "\n",
        "best_run = hdr.get_best_run_by_primary_metric()\n",
        "best_run.register_model('best_run', 'outputs/HyperParameterModel.joblib')"
      ],
      "outputs": [],
      "execution_count": null,
      "metadata": {
        "gather": {
          "logged": 1598276310862
        },
        "jupyter": {
          "outputs_hidden": false,
          "source_hidden": false
        },
        "nteract": {
          "transient": {
            "deleting": false
          }
        }
      }
    },
    {
      "cell_type": "code",
      "source": [
        "from azureml.data.dataset_factory import TabularDatasetFactory\n",
        "\n",
        "# Create TabularDataset using TabularDatasetFactory\n",
        "# Data is available at: \n",
        "# \"https://automlsamplenotebookdata.blob.core.windows.net/automl-sample-notebook-data/bankmarketing_train.csv\"\n",
        "URL = \"https://automlsamplenotebookdata.blob.core.windows.net/automl-sample-notebook-data/bankmarketing_train.csv\"\n",
        "ds = TabularDatasetFactory.from_delimited_files(path=URL)"
      ],
      "outputs": [],
      "execution_count": null,
      "metadata": {}
    },
    {
      "cell_type": "code",
      "source": [
        "from train import clean_data\n",
        "\n",
        "# Use the clean_data function to clean your data.\n",
        "x, y = clean_data(ds)"
      ],
      "outputs": [],
      "execution_count": null,
      "metadata": {
        "gather": {
          "logged": 1598275726969
        },
        "jupyter": {
          "outputs_hidden": false,
          "source_hidden": false
        },
        "nteract": {
          "transient": {
            "deleting": false
          }
        }
      }
    },
    {
      "cell_type": "code",
      "source": [
        "from azureml.train.automl import AutoMLConfig\n",
        "\n",
        "# Set parameters for AutoMLConfig\n",
        "# NOTE: DO NOT CHANGE THE experiment_timeout_minutes PARAMETER OR YOUR INSTANCE WILL TIME OUT.\n",
        "# If you wish to run the experiment longer, you will need to run this notebook in your own\n",
        "# Azure tenant, which will incur personal costs.\n",
        "automl_config = AutoMLConfig(\n",
        "    experiment_timeout_minutes=30,\n",
        "    task='classification',\n",
        "    primary_metric='accuracy',\n",
        "    training_data=ds,\n",
        "    label_column_name='y',\n",
        "    n_cross_validations=5\n",
        "    compute_target=cluster_handle,\n",
        "    enable_onnx_compatible_models=True)"
      ],
      "outputs": [],
      "execution_count": null,
      "metadata": {
        "gather": {
          "logged": 1598275665403
        },
        "jupyter": {
          "outputs_hidden": false,
          "source_hidden": false
        },
        "nteract": {
          "transient": {
            "deleting": false
          }
        }
      }
    },
    {
      "cell_type": "code",
      "source": [
        "# Submit your automl run\n",
        "\n",
        "run = exp.submit(automl_config)\n",
        "RunDetails(run).show()\n",
        "run.wait_for_completion(show_output=True)"
      ],
      "outputs": [],
      "execution_count": null,
      "metadata": {
        "jupyter": {
          "outputs_hidden": false,
          "source_hidden": false
        },
        "nteract": {
          "transient": {
            "deleting": false
          }
        }
      }
    },
    {
      "cell_type": "code",
      "source": [
        "# Retrieve and save your best automl model.\n",
        "\n",
        "best_run, fitted_model = run.get_output()\n",
        "print(best_run)\n",
        "\n",
        "\n",
        "import joblib\n",
        "\n",
        "os.mkdir(\"model_output\")\n",
        "os.chdir(\"model_outputs\")\n",
        "joblib.dump(fitted_model,\"AUTOML.pkl\")"
      ],
      "outputs": [],
      "execution_count": null,
      "metadata": {}
    },
    {
      "cell_type": "code",
      "source": [
        "cluster_handle.delete()"
      ],
      "outputs": [],
      "execution_count": null,
      "metadata": {
        "jupyter": {
          "source_hidden": false,
          "outputs_hidden": false
        },
        "nteract": {
          "transient": {
            "deleting": false
          }
        }
      }
    }
  ],
  "metadata": {
    "kernel_info": {
      "name": "python3"
    },
    "kernelspec": {
      "name": "python3",
      "language": "python",
      "display_name": "Python 3 (ipykernel)"
    },
    "language_info": {
      "name": "python",
      "version": "3.8.5",
      "mimetype": "text/x-python",
      "codemirror_mode": {
        "name": "ipython",
        "version": 3
      },
      "pygments_lexer": "ipython3",
      "nbconvert_exporter": "python",
      "file_extension": ".py"
    },
    "nteract": {
      "version": "nteract-front-end@1.0.0"
    },
    "microsoft": {
      "ms_spell_check": {
        "ms_spell_check_language": "en"
      }
    }
  },
  "nbformat": 4,
  "nbformat_minor": 2
}